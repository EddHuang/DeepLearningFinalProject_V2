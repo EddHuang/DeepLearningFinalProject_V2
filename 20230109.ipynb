{
 "cells": [
  {
   "cell_type": "code",
   "execution_count": 1,
   "id": "90a6fe79",
   "metadata": {
    "_cell_guid": "b1076dfc-b9ad-4769-8c92-a6c4dae69d19",
    "_uuid": "8f2839f25d086af736a60e9eeb907d3b93b6e0e5",
    "execution": {
     "iopub.execute_input": "2023-01-09T02:08:08.824772Z",
     "iopub.status.busy": "2023-01-09T02:08:08.824095Z",
     "iopub.status.idle": "2023-01-09T02:08:10.022315Z",
     "shell.execute_reply": "2023-01-09T02:08:10.020912Z"
    },
    "papermill": {
     "duration": 1.214431,
     "end_time": "2023-01-09T02:08:10.025610",
     "exception": false,
     "start_time": "2023-01-09T02:08:08.811179",
     "status": "completed"
    },
    "tags": []
   },
   "outputs": [],
   "source": [
    "# Importing the libraries\n",
    "import matplotlib.pyplot as plt\n",
    "import numpy as np\n",
    "import pandas as pd\n",
    "from datetime import datetime, date\n",
    "from sklearn.model_selection import train_test_split\n",
    "from sklearn.metrics import mean_absolute_error\n",
    "\n",
    "pd.set_option('mode.chained_assignment', None)"
   ]
  },
  {
   "cell_type": "code",
   "execution_count": 2,
   "id": "7d374106",
   "metadata": {
    "execution": {
     "iopub.execute_input": "2023-01-09T02:08:10.051263Z",
     "iopub.status.busy": "2023-01-09T02:08:10.050873Z",
     "iopub.status.idle": "2023-01-09T02:08:15.837649Z",
     "shell.execute_reply": "2023-01-09T02:08:15.836700Z"
    },
    "papermill": {
     "duration": 5.802147,
     "end_time": "2023-01-09T02:08:15.840114",
     "exception": false,
     "start_time": "2023-01-09T02:08:10.037967",
     "status": "completed"
    },
    "tags": []
   },
   "outputs": [],
   "source": [
    "# Loading the .csv files using Pandas\n",
    "# df_game = pd.read_csv('../input/nfl-big-data-bowl-2023/games.csv')\n",
    "# df_scout = pd.read_csv('../input/nfl-big-data-bowl-2023/pffScoutingData.csv')\n",
    "df_player = pd.read_csv('../input/nfl-big-data-bowl-2023/players.csv')\n",
    "# df_play = pd.read_csv('../input/nfl-big-data-bowl-2023/plays.csv')\n",
    "df_week1 = pd.read_csv('../input/nfl-big-data-bowl-2023/week1.csv')\n",
    "df_week2 = pd.read_csv('../input/nfl-big-data-bowl-2023/week2.csv')"
   ]
  },
  {
   "cell_type": "markdown",
   "id": "83c60eaa",
   "metadata": {
    "papermill": {
     "duration": 0.010245,
     "end_time": "2023-01-09T02:08:15.860354",
     "exception": false,
     "start_time": "2023-01-09T02:08:15.850109",
     "status": "completed"
    },
    "tags": []
   },
   "source": [
    "# **week merge df_player**"
   ]
  },
  {
   "cell_type": "code",
   "execution_count": 3,
   "id": "b1f0b352",
   "metadata": {
    "execution": {
     "iopub.execute_input": "2023-01-09T02:08:15.881224Z",
     "iopub.status.busy": "2023-01-09T02:08:15.880774Z",
     "iopub.status.idle": "2023-01-09T02:08:17.891432Z",
     "shell.execute_reply": "2023-01-09T02:08:17.890587Z"
    },
    "papermill": {
     "duration": 2.024525,
     "end_time": "2023-01-09T02:08:17.894667",
     "exception": false,
     "start_time": "2023-01-09T02:08:15.870142",
     "status": "completed"
    },
    "tags": []
   },
   "outputs": [
    {
     "data": {
      "text/html": [
       "<div>\n",
       "<style scoped>\n",
       "    .dataframe tbody tr th:only-of-type {\n",
       "        vertical-align: middle;\n",
       "    }\n",
       "\n",
       "    .dataframe tbody tr th {\n",
       "        vertical-align: top;\n",
       "    }\n",
       "\n",
       "    .dataframe thead th {\n",
       "        text-align: right;\n",
       "    }\n",
       "</style>\n",
       "<table border=\"1\" class=\"dataframe\">\n",
       "  <thead>\n",
       "    <tr style=\"text-align: right;\">\n",
       "      <th></th>\n",
       "      <th>gameId</th>\n",
       "      <th>playId</th>\n",
       "      <th>nflId</th>\n",
       "      <th>frameId</th>\n",
       "      <th>time</th>\n",
       "      <th>jerseyNumber</th>\n",
       "      <th>team</th>\n",
       "      <th>playDirection</th>\n",
       "      <th>x</th>\n",
       "      <th>y</th>\n",
       "      <th>...</th>\n",
       "      <th>dis</th>\n",
       "      <th>o</th>\n",
       "      <th>dir</th>\n",
       "      <th>event</th>\n",
       "      <th>height</th>\n",
       "      <th>weight</th>\n",
       "      <th>birthDate</th>\n",
       "      <th>collegeName</th>\n",
       "      <th>officialPosition</th>\n",
       "      <th>displayName</th>\n",
       "    </tr>\n",
       "  </thead>\n",
       "  <tbody>\n",
       "    <tr>\n",
       "      <th>0</th>\n",
       "      <td>2021090900</td>\n",
       "      <td>97</td>\n",
       "      <td>25511.0</td>\n",
       "      <td>1</td>\n",
       "      <td>2021-09-10T00:26:31.100</td>\n",
       "      <td>12.0</td>\n",
       "      <td>TB</td>\n",
       "      <td>right</td>\n",
       "      <td>37.77</td>\n",
       "      <td>24.22</td>\n",
       "      <td>...</td>\n",
       "      <td>0.03</td>\n",
       "      <td>165.16</td>\n",
       "      <td>84.99</td>\n",
       "      <td>None</td>\n",
       "      <td>6-4</td>\n",
       "      <td>225</td>\n",
       "      <td>1977-08-03</td>\n",
       "      <td>Michigan</td>\n",
       "      <td>QB</td>\n",
       "      <td>Tom Brady</td>\n",
       "    </tr>\n",
       "    <tr>\n",
       "      <th>1</th>\n",
       "      <td>2021090900</td>\n",
       "      <td>97</td>\n",
       "      <td>25511.0</td>\n",
       "      <td>2</td>\n",
       "      <td>2021-09-10T00:26:31.200</td>\n",
       "      <td>12.0</td>\n",
       "      <td>TB</td>\n",
       "      <td>right</td>\n",
       "      <td>37.78</td>\n",
       "      <td>24.22</td>\n",
       "      <td>...</td>\n",
       "      <td>0.02</td>\n",
       "      <td>164.33</td>\n",
       "      <td>92.87</td>\n",
       "      <td>None</td>\n",
       "      <td>6-4</td>\n",
       "      <td>225</td>\n",
       "      <td>1977-08-03</td>\n",
       "      <td>Michigan</td>\n",
       "      <td>QB</td>\n",
       "      <td>Tom Brady</td>\n",
       "    </tr>\n",
       "    <tr>\n",
       "      <th>2</th>\n",
       "      <td>2021090900</td>\n",
       "      <td>97</td>\n",
       "      <td>25511.0</td>\n",
       "      <td>3</td>\n",
       "      <td>2021-09-10T00:26:31.300</td>\n",
       "      <td>12.0</td>\n",
       "      <td>TB</td>\n",
       "      <td>right</td>\n",
       "      <td>37.78</td>\n",
       "      <td>24.24</td>\n",
       "      <td>...</td>\n",
       "      <td>0.01</td>\n",
       "      <td>160.24</td>\n",
       "      <td>68.55</td>\n",
       "      <td>None</td>\n",
       "      <td>6-4</td>\n",
       "      <td>225</td>\n",
       "      <td>1977-08-03</td>\n",
       "      <td>Michigan</td>\n",
       "      <td>QB</td>\n",
       "      <td>Tom Brady</td>\n",
       "    </tr>\n",
       "    <tr>\n",
       "      <th>3</th>\n",
       "      <td>2021090900</td>\n",
       "      <td>97</td>\n",
       "      <td>25511.0</td>\n",
       "      <td>4</td>\n",
       "      <td>2021-09-10T00:26:31.400</td>\n",
       "      <td>12.0</td>\n",
       "      <td>TB</td>\n",
       "      <td>right</td>\n",
       "      <td>37.73</td>\n",
       "      <td>24.25</td>\n",
       "      <td>...</td>\n",
       "      <td>0.06</td>\n",
       "      <td>152.13</td>\n",
       "      <td>296.85</td>\n",
       "      <td>None</td>\n",
       "      <td>6-4</td>\n",
       "      <td>225</td>\n",
       "      <td>1977-08-03</td>\n",
       "      <td>Michigan</td>\n",
       "      <td>QB</td>\n",
       "      <td>Tom Brady</td>\n",
       "    </tr>\n",
       "    <tr>\n",
       "      <th>4</th>\n",
       "      <td>2021090900</td>\n",
       "      <td>97</td>\n",
       "      <td>25511.0</td>\n",
       "      <td>5</td>\n",
       "      <td>2021-09-10T00:26:31.500</td>\n",
       "      <td>12.0</td>\n",
       "      <td>TB</td>\n",
       "      <td>right</td>\n",
       "      <td>37.69</td>\n",
       "      <td>24.26</td>\n",
       "      <td>...</td>\n",
       "      <td>0.04</td>\n",
       "      <td>148.33</td>\n",
       "      <td>287.55</td>\n",
       "      <td>None</td>\n",
       "      <td>6-4</td>\n",
       "      <td>225</td>\n",
       "      <td>1977-08-03</td>\n",
       "      <td>Michigan</td>\n",
       "      <td>QB</td>\n",
       "      <td>Tom Brady</td>\n",
       "    </tr>\n",
       "    <tr>\n",
       "      <th>...</th>\n",
       "      <td>...</td>\n",
       "      <td>...</td>\n",
       "      <td>...</td>\n",
       "      <td>...</td>\n",
       "      <td>...</td>\n",
       "      <td>...</td>\n",
       "      <td>...</td>\n",
       "      <td>...</td>\n",
       "      <td>...</td>\n",
       "      <td>...</td>\n",
       "      <td>...</td>\n",
       "      <td>...</td>\n",
       "      <td>...</td>\n",
       "      <td>...</td>\n",
       "      <td>...</td>\n",
       "      <td>...</td>\n",
       "      <td>...</td>\n",
       "      <td>...</td>\n",
       "      <td>...</td>\n",
       "      <td>...</td>\n",
       "      <td>...</td>\n",
       "    </tr>\n",
       "    <tr>\n",
       "      <th>1069503</th>\n",
       "      <td>2021091300</td>\n",
       "      <td>4094</td>\n",
       "      <td>48220.0</td>\n",
       "      <td>46</td>\n",
       "      <td>2021-09-14T03:24:20.000</td>\n",
       "      <td>65.0</td>\n",
       "      <td>BAL</td>\n",
       "      <td>left</td>\n",
       "      <td>43.49</td>\n",
       "      <td>39.86</td>\n",
       "      <td>...</td>\n",
       "      <td>0.59</td>\n",
       "      <td>318.58</td>\n",
       "      <td>342.01</td>\n",
       "      <td>None</td>\n",
       "      <td>6-4</td>\n",
       "      <td>308</td>\n",
       "      <td>1997-08-13</td>\n",
       "      <td>California</td>\n",
       "      <td>G</td>\n",
       "      <td>Patrick Mekari</td>\n",
       "    </tr>\n",
       "    <tr>\n",
       "      <th>1069504</th>\n",
       "      <td>2021091300</td>\n",
       "      <td>4094</td>\n",
       "      <td>48220.0</td>\n",
       "      <td>47</td>\n",
       "      <td>2021-09-14T03:24:20.100</td>\n",
       "      <td>65.0</td>\n",
       "      <td>BAL</td>\n",
       "      <td>left</td>\n",
       "      <td>43.31</td>\n",
       "      <td>40.43</td>\n",
       "      <td>...</td>\n",
       "      <td>0.60</td>\n",
       "      <td>315.03</td>\n",
       "      <td>341.46</td>\n",
       "      <td>None</td>\n",
       "      <td>6-4</td>\n",
       "      <td>308</td>\n",
       "      <td>1997-08-13</td>\n",
       "      <td>California</td>\n",
       "      <td>G</td>\n",
       "      <td>Patrick Mekari</td>\n",
       "    </tr>\n",
       "    <tr>\n",
       "      <th>1069505</th>\n",
       "      <td>2021091300</td>\n",
       "      <td>4094</td>\n",
       "      <td>48220.0</td>\n",
       "      <td>48</td>\n",
       "      <td>2021-09-14T03:24:20.200</td>\n",
       "      <td>65.0</td>\n",
       "      <td>BAL</td>\n",
       "      <td>left</td>\n",
       "      <td>43.09</td>\n",
       "      <td>41.00</td>\n",
       "      <td>...</td>\n",
       "      <td>0.61</td>\n",
       "      <td>318.59</td>\n",
       "      <td>339.48</td>\n",
       "      <td>None</td>\n",
       "      <td>6-4</td>\n",
       "      <td>308</td>\n",
       "      <td>1997-08-13</td>\n",
       "      <td>California</td>\n",
       "      <td>G</td>\n",
       "      <td>Patrick Mekari</td>\n",
       "    </tr>\n",
       "    <tr>\n",
       "      <th>1069506</th>\n",
       "      <td>2021091300</td>\n",
       "      <td>4094</td>\n",
       "      <td>48220.0</td>\n",
       "      <td>49</td>\n",
       "      <td>2021-09-14T03:24:20.300</td>\n",
       "      <td>65.0</td>\n",
       "      <td>BAL</td>\n",
       "      <td>left</td>\n",
       "      <td>42.87</td>\n",
       "      <td>41.57</td>\n",
       "      <td>...</td>\n",
       "      <td>0.61</td>\n",
       "      <td>316.08</td>\n",
       "      <td>338.39</td>\n",
       "      <td>None</td>\n",
       "      <td>6-4</td>\n",
       "      <td>308</td>\n",
       "      <td>1997-08-13</td>\n",
       "      <td>California</td>\n",
       "      <td>G</td>\n",
       "      <td>Patrick Mekari</td>\n",
       "    </tr>\n",
       "    <tr>\n",
       "      <th>1069507</th>\n",
       "      <td>2021091300</td>\n",
       "      <td>4094</td>\n",
       "      <td>48220.0</td>\n",
       "      <td>50</td>\n",
       "      <td>2021-09-14T03:24:20.400</td>\n",
       "      <td>65.0</td>\n",
       "      <td>BAL</td>\n",
       "      <td>left</td>\n",
       "      <td>42.65</td>\n",
       "      <td>42.11</td>\n",
       "      <td>...</td>\n",
       "      <td>0.58</td>\n",
       "      <td>321.30</td>\n",
       "      <td>337.31</td>\n",
       "      <td>None</td>\n",
       "      <td>6-4</td>\n",
       "      <td>308</td>\n",
       "      <td>1997-08-13</td>\n",
       "      <td>California</td>\n",
       "      <td>G</td>\n",
       "      <td>Patrick Mekari</td>\n",
       "    </tr>\n",
       "  </tbody>\n",
       "</table>\n",
       "<p>1069508 rows × 22 columns</p>\n",
       "</div>"
      ],
      "text/plain": [
       "             gameId  playId    nflId  frameId                     time  \\\n",
       "0        2021090900      97  25511.0        1  2021-09-10T00:26:31.100   \n",
       "1        2021090900      97  25511.0        2  2021-09-10T00:26:31.200   \n",
       "2        2021090900      97  25511.0        3  2021-09-10T00:26:31.300   \n",
       "3        2021090900      97  25511.0        4  2021-09-10T00:26:31.400   \n",
       "4        2021090900      97  25511.0        5  2021-09-10T00:26:31.500   \n",
       "...             ...     ...      ...      ...                      ...   \n",
       "1069503  2021091300    4094  48220.0       46  2021-09-14T03:24:20.000   \n",
       "1069504  2021091300    4094  48220.0       47  2021-09-14T03:24:20.100   \n",
       "1069505  2021091300    4094  48220.0       48  2021-09-14T03:24:20.200   \n",
       "1069506  2021091300    4094  48220.0       49  2021-09-14T03:24:20.300   \n",
       "1069507  2021091300    4094  48220.0       50  2021-09-14T03:24:20.400   \n",
       "\n",
       "         jerseyNumber team playDirection      x      y  ...   dis       o  \\\n",
       "0                12.0   TB         right  37.77  24.22  ...  0.03  165.16   \n",
       "1                12.0   TB         right  37.78  24.22  ...  0.02  164.33   \n",
       "2                12.0   TB         right  37.78  24.24  ...  0.01  160.24   \n",
       "3                12.0   TB         right  37.73  24.25  ...  0.06  152.13   \n",
       "4                12.0   TB         right  37.69  24.26  ...  0.04  148.33   \n",
       "...               ...  ...           ...    ...    ...  ...   ...     ...   \n",
       "1069503          65.0  BAL          left  43.49  39.86  ...  0.59  318.58   \n",
       "1069504          65.0  BAL          left  43.31  40.43  ...  0.60  315.03   \n",
       "1069505          65.0  BAL          left  43.09  41.00  ...  0.61  318.59   \n",
       "1069506          65.0  BAL          left  42.87  41.57  ...  0.61  316.08   \n",
       "1069507          65.0  BAL          left  42.65  42.11  ...  0.58  321.30   \n",
       "\n",
       "            dir  event  height weight   birthDate  collegeName  \\\n",
       "0         84.99   None     6-4    225  1977-08-03     Michigan   \n",
       "1         92.87   None     6-4    225  1977-08-03     Michigan   \n",
       "2         68.55   None     6-4    225  1977-08-03     Michigan   \n",
       "3        296.85   None     6-4    225  1977-08-03     Michigan   \n",
       "4        287.55   None     6-4    225  1977-08-03     Michigan   \n",
       "...         ...    ...     ...    ...         ...          ...   \n",
       "1069503  342.01   None     6-4    308  1997-08-13   California   \n",
       "1069504  341.46   None     6-4    308  1997-08-13   California   \n",
       "1069505  339.48   None     6-4    308  1997-08-13   California   \n",
       "1069506  338.39   None     6-4    308  1997-08-13   California   \n",
       "1069507  337.31   None     6-4    308  1997-08-13   California   \n",
       "\n",
       "        officialPosition     displayName  \n",
       "0                     QB       Tom Brady  \n",
       "1                     QB       Tom Brady  \n",
       "2                     QB       Tom Brady  \n",
       "3                     QB       Tom Brady  \n",
       "4                     QB       Tom Brady  \n",
       "...                  ...             ...  \n",
       "1069503                G  Patrick Mekari  \n",
       "1069504                G  Patrick Mekari  \n",
       "1069505                G  Patrick Mekari  \n",
       "1069506                G  Patrick Mekari  \n",
       "1069507                G  Patrick Mekari  \n",
       "\n",
       "[1069508 rows x 22 columns]"
      ]
     },
     "execution_count": 3,
     "metadata": {},
     "output_type": "execute_result"
    }
   ],
   "source": [
    "# Merge df_week1 and df_player\n",
    "df_week_1_player = pd.merge(df_week1, df_player, on=['nflId'])\n",
    "\n",
    "# Merge df_week2 and df_player\n",
    "df_week_2_player = pd.merge(df_week2, df_player, on=['nflId'])\n",
    "\n",
    "df_week_1_player"
   ]
  },
  {
   "cell_type": "markdown",
   "id": "410d39b0",
   "metadata": {
    "papermill": {
     "duration": 0.009662,
     "end_time": "2023-01-09T02:08:17.914342",
     "exception": false,
     "start_time": "2023-01-09T02:08:17.904680",
     "status": "completed"
    },
    "tags": []
   },
   "source": [
    "# **篩選出CB位置的球員**"
   ]
  },
  {
   "cell_type": "code",
   "execution_count": 4,
   "id": "54d8f65e",
   "metadata": {
    "execution": {
     "iopub.execute_input": "2023-01-09T02:08:17.936197Z",
     "iopub.status.busy": "2023-01-09T02:08:17.935615Z",
     "iopub.status.idle": "2023-01-09T02:08:18.635724Z",
     "shell.execute_reply": "2023-01-09T02:08:18.634857Z"
    },
    "papermill": {
     "duration": 0.71315,
     "end_time": "2023-01-09T02:08:18.637533",
     "exception": false,
     "start_time": "2023-01-09T02:08:17.924383",
     "status": "completed"
    },
    "tags": []
   },
   "outputs": [
    {
     "data": {
      "text/html": [
       "<div>\n",
       "<style scoped>\n",
       "    .dataframe tbody tr th:only-of-type {\n",
       "        vertical-align: middle;\n",
       "    }\n",
       "\n",
       "    .dataframe tbody tr th {\n",
       "        vertical-align: top;\n",
       "    }\n",
       "\n",
       "    .dataframe thead th {\n",
       "        text-align: right;\n",
       "    }\n",
       "</style>\n",
       "<table border=\"1\" class=\"dataframe\">\n",
       "  <thead>\n",
       "    <tr style=\"text-align: right;\">\n",
       "      <th></th>\n",
       "      <th>gameId</th>\n",
       "      <th>playId</th>\n",
       "      <th>nflId</th>\n",
       "      <th>frameId</th>\n",
       "      <th>time</th>\n",
       "      <th>jerseyNumber</th>\n",
       "      <th>team</th>\n",
       "      <th>playDirection</th>\n",
       "      <th>x</th>\n",
       "      <th>y</th>\n",
       "      <th>...</th>\n",
       "      <th>dis</th>\n",
       "      <th>o</th>\n",
       "      <th>dir</th>\n",
       "      <th>event</th>\n",
       "      <th>height</th>\n",
       "      <th>weight</th>\n",
       "      <th>birthDate</th>\n",
       "      <th>collegeName</th>\n",
       "      <th>officialPosition</th>\n",
       "      <th>displayName</th>\n",
       "    </tr>\n",
       "  </thead>\n",
       "  <tbody>\n",
       "    <tr>\n",
       "      <th>15180</th>\n",
       "      <td>2021090900</td>\n",
       "      <td>97</td>\n",
       "      <td>43478.0</td>\n",
       "      <td>1</td>\n",
       "      <td>2021-09-10T00:26:31.100</td>\n",
       "      <td>30.0</td>\n",
       "      <td>DAL</td>\n",
       "      <td>right</td>\n",
       "      <td>43.49</td>\n",
       "      <td>37.55</td>\n",
       "      <td>...</td>\n",
       "      <td>0.07</td>\n",
       "      <td>302.07</td>\n",
       "      <td>58.43</td>\n",
       "      <td>None</td>\n",
       "      <td>5-11</td>\n",
       "      <td>196</td>\n",
       "      <td>1993-12-15</td>\n",
       "      <td>Purdue</td>\n",
       "      <td>CB</td>\n",
       "      <td>Anthony Brown</td>\n",
       "    </tr>\n",
       "    <tr>\n",
       "      <th>15181</th>\n",
       "      <td>2021090900</td>\n",
       "      <td>97</td>\n",
       "      <td>43478.0</td>\n",
       "      <td>2</td>\n",
       "      <td>2021-09-10T00:26:31.200</td>\n",
       "      <td>30.0</td>\n",
       "      <td>DAL</td>\n",
       "      <td>right</td>\n",
       "      <td>43.53</td>\n",
       "      <td>37.58</td>\n",
       "      <td>...</td>\n",
       "      <td>0.05</td>\n",
       "      <td>300.87</td>\n",
       "      <td>55.28</td>\n",
       "      <td>None</td>\n",
       "      <td>5-11</td>\n",
       "      <td>196</td>\n",
       "      <td>1993-12-15</td>\n",
       "      <td>Purdue</td>\n",
       "      <td>CB</td>\n",
       "      <td>Anthony Brown</td>\n",
       "    </tr>\n",
       "    <tr>\n",
       "      <th>15182</th>\n",
       "      <td>2021090900</td>\n",
       "      <td>97</td>\n",
       "      <td>43478.0</td>\n",
       "      <td>3</td>\n",
       "      <td>2021-09-10T00:26:31.300</td>\n",
       "      <td>30.0</td>\n",
       "      <td>DAL</td>\n",
       "      <td>right</td>\n",
       "      <td>43.54</td>\n",
       "      <td>37.60</td>\n",
       "      <td>...</td>\n",
       "      <td>0.02</td>\n",
       "      <td>300.87</td>\n",
       "      <td>55.12</td>\n",
       "      <td>None</td>\n",
       "      <td>5-11</td>\n",
       "      <td>196</td>\n",
       "      <td>1993-12-15</td>\n",
       "      <td>Purdue</td>\n",
       "      <td>CB</td>\n",
       "      <td>Anthony Brown</td>\n",
       "    </tr>\n",
       "    <tr>\n",
       "      <th>15183</th>\n",
       "      <td>2021090900</td>\n",
       "      <td>97</td>\n",
       "      <td>43478.0</td>\n",
       "      <td>4</td>\n",
       "      <td>2021-09-10T00:26:31.400</td>\n",
       "      <td>30.0</td>\n",
       "      <td>DAL</td>\n",
       "      <td>right</td>\n",
       "      <td>43.59</td>\n",
       "      <td>37.65</td>\n",
       "      <td>...</td>\n",
       "      <td>0.08</td>\n",
       "      <td>300.87</td>\n",
       "      <td>51.06</td>\n",
       "      <td>None</td>\n",
       "      <td>5-11</td>\n",
       "      <td>196</td>\n",
       "      <td>1993-12-15</td>\n",
       "      <td>Purdue</td>\n",
       "      <td>CB</td>\n",
       "      <td>Anthony Brown</td>\n",
       "    </tr>\n",
       "    <tr>\n",
       "      <th>15184</th>\n",
       "      <td>2021090900</td>\n",
       "      <td>97</td>\n",
       "      <td>43478.0</td>\n",
       "      <td>5</td>\n",
       "      <td>2021-09-10T00:26:31.500</td>\n",
       "      <td>30.0</td>\n",
       "      <td>DAL</td>\n",
       "      <td>right</td>\n",
       "      <td>43.61</td>\n",
       "      <td>37.61</td>\n",
       "      <td>...</td>\n",
       "      <td>0.05</td>\n",
       "      <td>297.31</td>\n",
       "      <td>60.78</td>\n",
       "      <td>None</td>\n",
       "      <td>5-11</td>\n",
       "      <td>196</td>\n",
       "      <td>1993-12-15</td>\n",
       "      <td>Purdue</td>\n",
       "      <td>CB</td>\n",
       "      <td>Anthony Brown</td>\n",
       "    </tr>\n",
       "    <tr>\n",
       "      <th>...</th>\n",
       "      <td>...</td>\n",
       "      <td>...</td>\n",
       "      <td>...</td>\n",
       "      <td>...</td>\n",
       "      <td>...</td>\n",
       "      <td>...</td>\n",
       "      <td>...</td>\n",
       "      <td>...</td>\n",
       "      <td>...</td>\n",
       "      <td>...</td>\n",
       "      <td>...</td>\n",
       "      <td>...</td>\n",
       "      <td>...</td>\n",
       "      <td>...</td>\n",
       "      <td>...</td>\n",
       "      <td>...</td>\n",
       "      <td>...</td>\n",
       "      <td>...</td>\n",
       "      <td>...</td>\n",
       "      <td>...</td>\n",
       "      <td>...</td>\n",
       "    </tr>\n",
       "    <tr>\n",
       "      <th>1069453</th>\n",
       "      <td>2021091300</td>\n",
       "      <td>2256</td>\n",
       "      <td>52427.0</td>\n",
       "      <td>27</td>\n",
       "      <td>2021-09-14T02:04:11.200</td>\n",
       "      <td>20.0</td>\n",
       "      <td>LV</td>\n",
       "      <td>right</td>\n",
       "      <td>63.52</td>\n",
       "      <td>47.25</td>\n",
       "      <td>...</td>\n",
       "      <td>0.54</td>\n",
       "      <td>170.07</td>\n",
       "      <td>83.26</td>\n",
       "      <td>pass_forward</td>\n",
       "      <td>6-0</td>\n",
       "      <td>195</td>\n",
       "      <td>NaN</td>\n",
       "      <td>Ohio State</td>\n",
       "      <td>CB</td>\n",
       "      <td>Damon Arnette</td>\n",
       "    </tr>\n",
       "    <tr>\n",
       "      <th>1069454</th>\n",
       "      <td>2021091300</td>\n",
       "      <td>2256</td>\n",
       "      <td>52427.0</td>\n",
       "      <td>28</td>\n",
       "      <td>2021-09-14T02:04:11.300</td>\n",
       "      <td>20.0</td>\n",
       "      <td>LV</td>\n",
       "      <td>right</td>\n",
       "      <td>64.04</td>\n",
       "      <td>47.29</td>\n",
       "      <td>...</td>\n",
       "      <td>0.53</td>\n",
       "      <td>162.77</td>\n",
       "      <td>87.33</td>\n",
       "      <td>None</td>\n",
       "      <td>6-0</td>\n",
       "      <td>195</td>\n",
       "      <td>NaN</td>\n",
       "      <td>Ohio State</td>\n",
       "      <td>CB</td>\n",
       "      <td>Damon Arnette</td>\n",
       "    </tr>\n",
       "    <tr>\n",
       "      <th>1069455</th>\n",
       "      <td>2021091300</td>\n",
       "      <td>2256</td>\n",
       "      <td>52427.0</td>\n",
       "      <td>29</td>\n",
       "      <td>2021-09-14T02:04:11.400</td>\n",
       "      <td>20.0</td>\n",
       "      <td>LV</td>\n",
       "      <td>right</td>\n",
       "      <td>64.55</td>\n",
       "      <td>47.30</td>\n",
       "      <td>...</td>\n",
       "      <td>0.51</td>\n",
       "      <td>163.77</td>\n",
       "      <td>91.98</td>\n",
       "      <td>None</td>\n",
       "      <td>6-0</td>\n",
       "      <td>195</td>\n",
       "      <td>NaN</td>\n",
       "      <td>Ohio State</td>\n",
       "      <td>CB</td>\n",
       "      <td>Damon Arnette</td>\n",
       "    </tr>\n",
       "    <tr>\n",
       "      <th>1069456</th>\n",
       "      <td>2021091300</td>\n",
       "      <td>2256</td>\n",
       "      <td>52427.0</td>\n",
       "      <td>30</td>\n",
       "      <td>2021-09-14T02:04:11.500</td>\n",
       "      <td>20.0</td>\n",
       "      <td>LV</td>\n",
       "      <td>right</td>\n",
       "      <td>65.05</td>\n",
       "      <td>47.26</td>\n",
       "      <td>...</td>\n",
       "      <td>0.50</td>\n",
       "      <td>163.77</td>\n",
       "      <td>95.79</td>\n",
       "      <td>None</td>\n",
       "      <td>6-0</td>\n",
       "      <td>195</td>\n",
       "      <td>NaN</td>\n",
       "      <td>Ohio State</td>\n",
       "      <td>CB</td>\n",
       "      <td>Damon Arnette</td>\n",
       "    </tr>\n",
       "    <tr>\n",
       "      <th>1069457</th>\n",
       "      <td>2021091300</td>\n",
       "      <td>2256</td>\n",
       "      <td>52427.0</td>\n",
       "      <td>31</td>\n",
       "      <td>2021-09-14T02:04:11.600</td>\n",
       "      <td>20.0</td>\n",
       "      <td>LV</td>\n",
       "      <td>right</td>\n",
       "      <td>65.52</td>\n",
       "      <td>47.20</td>\n",
       "      <td>...</td>\n",
       "      <td>0.48</td>\n",
       "      <td>167.80</td>\n",
       "      <td>99.86</td>\n",
       "      <td>None</td>\n",
       "      <td>6-0</td>\n",
       "      <td>195</td>\n",
       "      <td>NaN</td>\n",
       "      <td>Ohio State</td>\n",
       "      <td>CB</td>\n",
       "      <td>Damon Arnette</td>\n",
       "    </tr>\n",
       "  </tbody>\n",
       "</table>\n",
       "<p>132881 rows × 22 columns</p>\n",
       "</div>"
      ],
      "text/plain": [
       "             gameId  playId    nflId  frameId                     time  \\\n",
       "15180    2021090900      97  43478.0        1  2021-09-10T00:26:31.100   \n",
       "15181    2021090900      97  43478.0        2  2021-09-10T00:26:31.200   \n",
       "15182    2021090900      97  43478.0        3  2021-09-10T00:26:31.300   \n",
       "15183    2021090900      97  43478.0        4  2021-09-10T00:26:31.400   \n",
       "15184    2021090900      97  43478.0        5  2021-09-10T00:26:31.500   \n",
       "...             ...     ...      ...      ...                      ...   \n",
       "1069453  2021091300    2256  52427.0       27  2021-09-14T02:04:11.200   \n",
       "1069454  2021091300    2256  52427.0       28  2021-09-14T02:04:11.300   \n",
       "1069455  2021091300    2256  52427.0       29  2021-09-14T02:04:11.400   \n",
       "1069456  2021091300    2256  52427.0       30  2021-09-14T02:04:11.500   \n",
       "1069457  2021091300    2256  52427.0       31  2021-09-14T02:04:11.600   \n",
       "\n",
       "         jerseyNumber team playDirection      x      y  ...   dis       o  \\\n",
       "15180            30.0  DAL         right  43.49  37.55  ...  0.07  302.07   \n",
       "15181            30.0  DAL         right  43.53  37.58  ...  0.05  300.87   \n",
       "15182            30.0  DAL         right  43.54  37.60  ...  0.02  300.87   \n",
       "15183            30.0  DAL         right  43.59  37.65  ...  0.08  300.87   \n",
       "15184            30.0  DAL         right  43.61  37.61  ...  0.05  297.31   \n",
       "...               ...  ...           ...    ...    ...  ...   ...     ...   \n",
       "1069453          20.0   LV         right  63.52  47.25  ...  0.54  170.07   \n",
       "1069454          20.0   LV         right  64.04  47.29  ...  0.53  162.77   \n",
       "1069455          20.0   LV         right  64.55  47.30  ...  0.51  163.77   \n",
       "1069456          20.0   LV         right  65.05  47.26  ...  0.50  163.77   \n",
       "1069457          20.0   LV         right  65.52  47.20  ...  0.48  167.80   \n",
       "\n",
       "           dir         event  height weight   birthDate  collegeName  \\\n",
       "15180    58.43          None    5-11    196  1993-12-15       Purdue   \n",
       "15181    55.28          None    5-11    196  1993-12-15       Purdue   \n",
       "15182    55.12          None    5-11    196  1993-12-15       Purdue   \n",
       "15183    51.06          None    5-11    196  1993-12-15       Purdue   \n",
       "15184    60.78          None    5-11    196  1993-12-15       Purdue   \n",
       "...        ...           ...     ...    ...         ...          ...   \n",
       "1069453  83.26  pass_forward     6-0    195         NaN   Ohio State   \n",
       "1069454  87.33          None     6-0    195         NaN   Ohio State   \n",
       "1069455  91.98          None     6-0    195         NaN   Ohio State   \n",
       "1069456  95.79          None     6-0    195         NaN   Ohio State   \n",
       "1069457  99.86          None     6-0    195         NaN   Ohio State   \n",
       "\n",
       "        officialPosition    displayName  \n",
       "15180                 CB  Anthony Brown  \n",
       "15181                 CB  Anthony Brown  \n",
       "15182                 CB  Anthony Brown  \n",
       "15183                 CB  Anthony Brown  \n",
       "15184                 CB  Anthony Brown  \n",
       "...                  ...            ...  \n",
       "1069453               CB  Damon Arnette  \n",
       "1069454               CB  Damon Arnette  \n",
       "1069455               CB  Damon Arnette  \n",
       "1069456               CB  Damon Arnette  \n",
       "1069457               CB  Damon Arnette  \n",
       "\n",
       "[132881 rows x 22 columns]"
      ]
     },
     "execution_count": 4,
     "metadata": {},
     "output_type": "execute_result"
    }
   ],
   "source": [
    "# 篩選出CB位置的球員\n",
    "officialPositionFilter = df_week_1_player['officialPosition'] == 'CB'\n",
    "df_week_1_player = df_week_1_player.loc[officialPositionFilter]\n",
    "\n",
    "officialPositionFilter2 = df_week_2_player['officialPosition'] == 'CB'\n",
    "df_week_2_player = df_week_2_player.loc[officialPositionFilter2]\n",
    "\n",
    "df_week_1_player"
   ]
  },
  {
   "cell_type": "markdown",
   "id": "9c32c473",
   "metadata": {
    "papermill": {
     "duration": 0.011126,
     "end_time": "2023-01-09T02:08:18.660368",
     "exception": false,
     "start_time": "2023-01-09T02:08:18.649242",
     "status": "completed"
    },
    "tags": []
   },
   "source": [
    "# **看S資料分佈**"
   ]
  },
  {
   "cell_type": "code",
   "execution_count": 5,
   "id": "813d1b55",
   "metadata": {
    "execution": {
     "iopub.execute_input": "2023-01-09T02:08:18.683554Z",
     "iopub.status.busy": "2023-01-09T02:08:18.682931Z",
     "iopub.status.idle": "2023-01-09T02:08:18.698125Z",
     "shell.execute_reply": "2023-01-09T02:08:18.697172Z"
    },
    "papermill": {
     "duration": 0.028947,
     "end_time": "2023-01-09T02:08:18.700123",
     "exception": false,
     "start_time": "2023-01-09T02:08:18.671176",
     "status": "completed"
    },
    "tags": []
   },
   "outputs": [
    {
     "data": {
      "text/plain": [
       "count    132881.000000\n",
       "mean          2.786893\n",
       "std           2.227920\n",
       "min           0.000000\n",
       "25%           0.690000\n",
       "50%           2.530000\n",
       "75%           4.410000\n",
       "max          10.390000\n",
       "Name: s, dtype: float64"
      ]
     },
     "execution_count": 5,
     "metadata": {},
     "output_type": "execute_result"
    }
   ],
   "source": [
    "df_week_1_player['s'].describe()"
   ]
  },
  {
   "cell_type": "code",
   "execution_count": 6,
   "id": "57251e91",
   "metadata": {
    "execution": {
     "iopub.execute_input": "2023-01-09T02:08:18.724042Z",
     "iopub.status.busy": "2023-01-09T02:08:18.723328Z",
     "iopub.status.idle": "2023-01-09T02:08:18.736335Z",
     "shell.execute_reply": "2023-01-09T02:08:18.734861Z"
    },
    "papermill": {
     "duration": 0.028121,
     "end_time": "2023-01-09T02:08:18.739191",
     "exception": false,
     "start_time": "2023-01-09T02:08:18.711070",
     "status": "completed"
    },
    "tags": []
   },
   "outputs": [
    {
     "data": {
      "text/plain": [
       "count    124813.000000\n",
       "mean          2.856146\n",
       "std           2.231201\n",
       "min           0.000000\n",
       "25%           0.760000\n",
       "50%           2.650000\n",
       "75%           4.510000\n",
       "max          10.090000\n",
       "Name: s, dtype: float64"
      ]
     },
     "execution_count": 6,
     "metadata": {},
     "output_type": "execute_result"
    }
   ],
   "source": [
    "df_week_2_player['s'].describe()"
   ]
  },
  {
   "cell_type": "markdown",
   "id": "8a9bb26f",
   "metadata": {
    "papermill": {
     "duration": 0.010095,
     "end_time": "2023-01-09T02:08:18.760787",
     "exception": false,
     "start_time": "2023-01-09T02:08:18.750692",
     "status": "completed"
    },
    "tags": []
   },
   "source": [
    "# **計算年齡Function**"
   ]
  },
  {
   "cell_type": "code",
   "execution_count": 7,
   "id": "cafc378f",
   "metadata": {
    "execution": {
     "iopub.execute_input": "2023-01-09T02:08:18.783223Z",
     "iopub.status.busy": "2023-01-09T02:08:18.782849Z",
     "iopub.status.idle": "2023-01-09T02:08:18.790037Z",
     "shell.execute_reply": "2023-01-09T02:08:18.788953Z"
    },
    "papermill": {
     "duration": 0.021223,
     "end_time": "2023-01-09T02:08:18.792351",
     "exception": false,
     "start_time": "2023-01-09T02:08:18.771128",
     "status": "completed"
    },
    "tags": []
   },
   "outputs": [
    {
     "name": "stdout",
     "output_type": "stream",
     "text": [
      "30.75\n"
     ]
    }
   ],
   "source": [
    "# get age\n",
    "def get_age(date_val):\n",
    "    today = 2023 + (1/12)\n",
    "    try:\n",
    "        date_val = date_val.split('-')\n",
    "        bd = int(date_val[0]) + (int(date_val[1]) / 12)\n",
    "    except:\n",
    "        try:\n",
    "            date_val = date_val.split('/')\n",
    "            bd = int(date_val[0]) + (int(date_val[1]) / 12)\n",
    "        except:\n",
    "            return 28\n",
    "    return today - bd\n",
    "\n",
    "print(get_age('1992-04-10'))"
   ]
  },
  {
   "cell_type": "markdown",
   "id": "85d31999",
   "metadata": {
    "papermill": {
     "duration": 0.010534,
     "end_time": "2023-01-09T02:08:18.813846",
     "exception": false,
     "start_time": "2023-01-09T02:08:18.803312",
     "status": "completed"
    },
    "tags": []
   },
   "source": [
    "# **計算身高Function**"
   ]
  },
  {
   "cell_type": "code",
   "execution_count": 8,
   "id": "6c351edf",
   "metadata": {
    "execution": {
     "iopub.execute_input": "2023-01-09T02:08:18.838295Z",
     "iopub.status.busy": "2023-01-09T02:08:18.836785Z",
     "iopub.status.idle": "2023-01-09T02:08:18.843933Z",
     "shell.execute_reply": "2023-01-09T02:08:18.843012Z"
    },
    "papermill": {
     "duration": 0.021311,
     "end_time": "2023-01-09T02:08:18.846012",
     "exception": false,
     "start_time": "2023-01-09T02:08:18.824701",
     "status": "completed"
    },
    "tags": []
   },
   "outputs": [
    {
     "name": "stdout",
     "output_type": "stream",
     "text": [
      "193.04\n"
     ]
    }
   ],
   "source": [
    "# get inches to cm  \n",
    "def height_cm(h):\n",
    "    temp = list(map(int, h.split('-')))\n",
    "    return temp[0] * 12 * 2.54 + temp[1] * 2.54\n",
    "\n",
    "print(height_cm('6-4'))"
   ]
  },
  {
   "cell_type": "markdown",
   "id": "390a2ab0",
   "metadata": {
    "papermill": {
     "duration": 0.010166,
     "end_time": "2023-01-09T02:08:18.867684",
     "exception": false,
     "start_time": "2023-01-09T02:08:18.857518",
     "status": "completed"
    },
    "tags": []
   },
   "source": [
    "# **計算體重Function**"
   ]
  },
  {
   "cell_type": "code",
   "execution_count": 9,
   "id": "4b4f4fe3",
   "metadata": {
    "execution": {
     "iopub.execute_input": "2023-01-09T02:08:18.890942Z",
     "iopub.status.busy": "2023-01-09T02:08:18.889750Z",
     "iopub.status.idle": "2023-01-09T02:08:18.896519Z",
     "shell.execute_reply": "2023-01-09T02:08:18.895308Z"
    },
    "papermill": {
     "duration": 0.020673,
     "end_time": "2023-01-09T02:08:18.898796",
     "exception": false,
     "start_time": "2023-01-09T02:08:18.878123",
     "status": "completed"
    },
    "tags": []
   },
   "outputs": [
    {
     "name": "stdout",
     "output_type": "stream",
     "text": [
      "19.8\n"
     ]
    }
   ],
   "source": [
    "# get pounds to kilograms function\n",
    "def weight_kg(w):\n",
    "    return float (w) * 0.45\n",
    "\n",
    "print(weight_kg('44'))"
   ]
  },
  {
   "cell_type": "markdown",
   "id": "a8842a56",
   "metadata": {
    "papermill": {
     "duration": 0.010768,
     "end_time": "2023-01-09T02:08:18.921054",
     "exception": false,
     "start_time": "2023-01-09T02:08:18.910286",
     "status": "completed"
    },
    "tags": []
   },
   "source": [
    "# **計算Metric BMI Function**"
   ]
  },
  {
   "cell_type": "code",
   "execution_count": 10,
   "id": "14b30acd",
   "metadata": {
    "execution": {
     "iopub.execute_input": "2023-01-09T02:08:18.945340Z",
     "iopub.status.busy": "2023-01-09T02:08:18.944697Z",
     "iopub.status.idle": "2023-01-09T02:08:18.950631Z",
     "shell.execute_reply": "2023-01-09T02:08:18.949505Z"
    },
    "papermill": {
     "duration": 0.020459,
     "end_time": "2023-01-09T02:08:18.952656",
     "exception": false,
     "start_time": "2023-01-09T02:08:18.932197",
     "status": "completed"
    },
    "tags": []
   },
   "outputs": [
    {
     "name": "stdout",
     "output_type": "stream",
     "text": [
      "24.97\n"
     ]
    }
   ],
   "source": [
    "# get BMI function\n",
    "def getBMI(h, w):\n",
    "    return round(float (w) / (float (h) / 100) ** 2, 2)\n",
    "\n",
    "print(getBMI('179', '80'))"
   ]
  },
  {
   "cell_type": "markdown",
   "id": "156d3f36",
   "metadata": {
    "papermill": {
     "duration": 0.010818,
     "end_time": "2023-01-09T02:08:18.974558",
     "exception": false,
     "start_time": "2023-01-09T02:08:18.963740",
     "status": "completed"
    },
    "tags": []
   },
   "source": [
    "# **設定age column**"
   ]
  },
  {
   "cell_type": "code",
   "execution_count": 11,
   "id": "a0fb5e2c",
   "metadata": {
    "execution": {
     "iopub.execute_input": "2023-01-09T02:08:18.998746Z",
     "iopub.status.busy": "2023-01-09T02:08:18.998367Z",
     "iopub.status.idle": "2023-01-09T02:08:19.239217Z",
     "shell.execute_reply": "2023-01-09T02:08:19.237800Z"
    },
    "papermill": {
     "duration": 0.255323,
     "end_time": "2023-01-09T02:08:19.241270",
     "exception": false,
     "start_time": "2023-01-09T02:08:18.985947",
     "status": "completed"
    },
    "tags": []
   },
   "outputs": [
    {
     "data": {
      "text/plain": [
       "count    132881.000000\n",
       "mean         28.285776\n",
       "std           2.332972\n",
       "min          23.750000\n",
       "25%          26.666667\n",
       "50%          28.000000\n",
       "75%          29.500000\n",
       "max          34.250000\n",
       "Name: age, dtype: float64"
      ]
     },
     "execution_count": 11,
     "metadata": {},
     "output_type": "execute_result"
    }
   ],
   "source": [
    "# set age column\n",
    "df_week_1_player['age'] = df_week_1_player['birthDate'].apply(get_age)\n",
    "\n",
    "df_week_2_player['age'] = df_week_2_player['birthDate'].apply(get_age)\n",
    "\n",
    "df_week_1_player['age'].describe()"
   ]
  },
  {
   "cell_type": "markdown",
   "id": "3709211e",
   "metadata": {
    "papermill": {
     "duration": 0.010728,
     "end_time": "2023-01-09T02:08:19.263301",
     "exception": false,
     "start_time": "2023-01-09T02:08:19.252573",
     "status": "completed"
    },
    "tags": []
   },
   "source": [
    "# **設定height column**"
   ]
  },
  {
   "cell_type": "code",
   "execution_count": 12,
   "id": "b96c1339",
   "metadata": {
    "execution": {
     "iopub.execute_input": "2023-01-09T02:08:19.288275Z",
     "iopub.status.busy": "2023-01-09T02:08:19.287930Z",
     "iopub.status.idle": "2023-01-09T02:08:19.599135Z",
     "shell.execute_reply": "2023-01-09T02:08:19.597528Z"
    },
    "papermill": {
     "duration": 0.327212,
     "end_time": "2023-01-09T02:08:19.601554",
     "exception": false,
     "start_time": "2023-01-09T02:08:19.274342",
     "status": "completed"
    },
    "tags": []
   },
   "outputs": [
    {
     "data": {
      "text/plain": [
       "count    132881.000000\n",
       "mean        181.948457\n",
       "std           3.953531\n",
       "min         175.260000\n",
       "25%         180.340000\n",
       "50%         180.340000\n",
       "75%         185.420000\n",
       "max         193.040000\n",
       "Name: height_new, dtype: float64"
      ]
     },
     "execution_count": 12,
     "metadata": {},
     "output_type": "execute_result"
    }
   ],
   "source": [
    "# set height_new column\n",
    "df_week_1_player['height_new'] = df_week_1_player['height'].apply(height_cm)\n",
    "\n",
    "df_week_2_player['height_new'] = df_week_2_player['height'].apply(height_cm)\n",
    "\n",
    "df_week_1_player['height_new'].describe()"
   ]
  },
  {
   "cell_type": "markdown",
   "id": "9c26c9c2",
   "metadata": {
    "papermill": {
     "duration": 0.011793,
     "end_time": "2023-01-09T02:08:19.624851",
     "exception": false,
     "start_time": "2023-01-09T02:08:19.613058",
     "status": "completed"
    },
    "tags": []
   },
   "source": [
    "# **設定weight column**"
   ]
  },
  {
   "cell_type": "code",
   "execution_count": 13,
   "id": "f7516ad4",
   "metadata": {
    "execution": {
     "iopub.execute_input": "2023-01-09T02:08:19.649646Z",
     "iopub.status.busy": "2023-01-09T02:08:19.649281Z",
     "iopub.status.idle": "2023-01-09T02:08:19.745526Z",
     "shell.execute_reply": "2023-01-09T02:08:19.743777Z"
    },
    "papermill": {
     "duration": 0.111653,
     "end_time": "2023-01-09T02:08:19.747543",
     "exception": false,
     "start_time": "2023-01-09T02:08:19.635890",
     "status": "completed"
    },
    "tags": []
   },
   "outputs": [
    {
     "data": {
      "text/plain": [
       "count    132881.00000\n",
       "mean         87.42529\n",
       "std           3.49568\n",
       "min          76.50000\n",
       "25%          85.50000\n",
       "50%          87.30000\n",
       "75%          90.00000\n",
       "max          96.75000\n",
       "Name: weight_new, dtype: float64"
      ]
     },
     "execution_count": 13,
     "metadata": {},
     "output_type": "execute_result"
    }
   ],
   "source": [
    "# set weight_new column\n",
    "df_week_1_player['weight_new'] = df_week_1_player['weight'].apply(weight_kg)\n",
    "\n",
    "df_week_2_player['weight_new'] = df_week_2_player['weight'].apply(weight_kg)\n",
    "\n",
    "df_week_1_player['weight_new'].describe()"
   ]
  },
  {
   "cell_type": "markdown",
   "id": "a6e1d7cf",
   "metadata": {
    "papermill": {
     "duration": 0.010508,
     "end_time": "2023-01-09T02:08:19.769081",
     "exception": false,
     "start_time": "2023-01-09T02:08:19.758573",
     "status": "completed"
    },
    "tags": []
   },
   "source": [
    "# **設定BMI column**"
   ]
  },
  {
   "cell_type": "code",
   "execution_count": 14,
   "id": "b65ddd4e",
   "metadata": {
    "execution": {
     "iopub.execute_input": "2023-01-09T02:08:19.792747Z",
     "iopub.status.busy": "2023-01-09T02:08:19.792393Z",
     "iopub.status.idle": "2023-01-09T02:08:23.654232Z",
     "shell.execute_reply": "2023-01-09T02:08:23.653361Z"
    },
    "papermill": {
     "duration": 3.876233,
     "end_time": "2023-01-09T02:08:23.656142",
     "exception": false,
     "start_time": "2023-01-09T02:08:19.779909",
     "status": "completed"
    },
    "tags": []
   },
   "outputs": [
    {
     "data": {
      "text/plain": [
       "count    132881.000000\n",
       "mean         26.421843\n",
       "std           1.072703\n",
       "min          23.440000\n",
       "25%          25.700000\n",
       "50%          26.570000\n",
       "75%          27.050000\n",
       "max          29.040000\n",
       "Name: BMI, dtype: float64"
      ]
     },
     "execution_count": 14,
     "metadata": {},
     "output_type": "execute_result"
    }
   ],
   "source": [
    "# set BMI column\n",
    "df_week_1_player['BMI'] = df_week_1_player.apply(lambda r:getBMI(r['height_new'], r['weight_new']), axis = 1)\n",
    "\n",
    "df_week_2_player['BMI'] = df_week_2_player.apply(lambda r:getBMI(r['height_new'], r['weight_new']), axis = 1)\n",
    "\n",
    "df_week_1_player['BMI'].describe()"
   ]
  },
  {
   "cell_type": "markdown",
   "id": "98caa96a",
   "metadata": {
    "papermill": {
     "duration": 0.01082,
     "end_time": "2023-01-09T02:08:23.679644",
     "exception": false,
     "start_time": "2023-01-09T02:08:23.668824",
     "status": "completed"
    },
    "tags": []
   },
   "source": [
    "# **顯示速度前幾名的選手**"
   ]
  },
  {
   "cell_type": "code",
   "execution_count": 15,
   "id": "a537a1b4",
   "metadata": {
    "execution": {
     "iopub.execute_input": "2023-01-09T02:08:23.703519Z",
     "iopub.status.busy": "2023-01-09T02:08:23.703150Z",
     "iopub.status.idle": "2023-01-09T02:08:23.790369Z",
     "shell.execute_reply": "2023-01-09T02:08:23.789152Z"
    },
    "papermill": {
     "duration": 0.102001,
     "end_time": "2023-01-09T02:08:23.792794",
     "exception": false,
     "start_time": "2023-01-09T02:08:23.690793",
     "status": "completed"
    },
    "tags": []
   },
   "outputs": [
    {
     "name": "stdout",
     "output_type": "stream",
     "text": [
      "count    120.000000\n",
      "mean       8.329000\n",
      "std        1.020527\n",
      "min        4.490000\n",
      "25%        7.850000\n",
      "50%        8.545000\n",
      "75%        8.930000\n",
      "max       10.390000\n",
      "Name: s, dtype: float64\n"
     ]
    },
    {
     "data": {
      "text/html": [
       "<div>\n",
       "<style scoped>\n",
       "    .dataframe tbody tr th:only-of-type {\n",
       "        vertical-align: middle;\n",
       "    }\n",
       "\n",
       "    .dataframe tbody tr th {\n",
       "        vertical-align: top;\n",
       "    }\n",
       "\n",
       "    .dataframe thead th {\n",
       "        text-align: right;\n",
       "    }\n",
       "</style>\n",
       "<table border=\"1\" class=\"dataframe\">\n",
       "  <thead>\n",
       "    <tr style=\"text-align: right;\">\n",
       "      <th></th>\n",
       "      <th>displayName</th>\n",
       "      <th>nflId</th>\n",
       "      <th>team</th>\n",
       "      <th>age</th>\n",
       "      <th>height_new</th>\n",
       "      <th>weight_new</th>\n",
       "      <th>BMI</th>\n",
       "      <th>birthDate</th>\n",
       "      <th>s</th>\n",
       "    </tr>\n",
       "  </thead>\n",
       "  <tbody>\n",
       "    <tr>\n",
       "      <th>243068</th>\n",
       "      <td>Donte Jackson</td>\n",
       "      <td>46124.0</td>\n",
       "      <td>CAR</td>\n",
       "      <td>27.166667</td>\n",
       "      <td>177.80</td>\n",
       "      <td>81.00</td>\n",
       "      <td>25.62</td>\n",
       "      <td>1995-11-08</td>\n",
       "      <td>10.39</td>\n",
       "    </tr>\n",
       "    <tr>\n",
       "      <th>305789</th>\n",
       "      <td>Chidobe Awuzie</td>\n",
       "      <td>44872.0</td>\n",
       "      <td>CIN</td>\n",
       "      <td>27.666667</td>\n",
       "      <td>182.88</td>\n",
       "      <td>90.90</td>\n",
       "      <td>27.18</td>\n",
       "      <td>1995-05-24</td>\n",
       "      <td>9.81</td>\n",
       "    </tr>\n",
       "    <tr>\n",
       "      <th>430762</th>\n",
       "      <td>Jeff Okudah</td>\n",
       "      <td>52411.0</td>\n",
       "      <td>DET</td>\n",
       "      <td>23.916667</td>\n",
       "      <td>185.42</td>\n",
       "      <td>90.00</td>\n",
       "      <td>26.18</td>\n",
       "      <td>1999-02-02</td>\n",
       "      <td>9.81</td>\n",
       "    </tr>\n",
       "    <tr>\n",
       "      <th>971266</th>\n",
       "      <td>Jaylon Johnson</td>\n",
       "      <td>52458.0</td>\n",
       "      <td>CHI</td>\n",
       "      <td>23.750000</td>\n",
       "      <td>182.88</td>\n",
       "      <td>87.75</td>\n",
       "      <td>26.24</td>\n",
       "      <td>1999-04-19</td>\n",
       "      <td>9.73</td>\n",
       "    </tr>\n",
       "    <tr>\n",
       "      <th>460763</th>\n",
       "      <td>C.J. Henderson</td>\n",
       "      <td>52417.0</td>\n",
       "      <td>JAX</td>\n",
       "      <td>24.333333</td>\n",
       "      <td>185.42</td>\n",
       "      <td>85.95</td>\n",
       "      <td>25.00</td>\n",
       "      <td>1998-09-30</td>\n",
       "      <td>9.72</td>\n",
       "    </tr>\n",
       "    <tr>\n",
       "      <th>992087</th>\n",
       "      <td>Marlon Humphrey</td>\n",
       "      <td>44828.0</td>\n",
       "      <td>BAL</td>\n",
       "      <td>26.500000</td>\n",
       "      <td>182.88</td>\n",
       "      <td>88.65</td>\n",
       "      <td>26.51</td>\n",
       "      <td>1996-07-08</td>\n",
       "      <td>9.70</td>\n",
       "    </tr>\n",
       "    <tr>\n",
       "      <th>886377</th>\n",
       "      <td>Patrick Surtain</td>\n",
       "      <td>53438.0</td>\n",
       "      <td>DEN</td>\n",
       "      <td>28.000000</td>\n",
       "      <td>187.96</td>\n",
       "      <td>91.35</td>\n",
       "      <td>25.86</td>\n",
       "      <td>NaN</td>\n",
       "      <td>9.61</td>\n",
       "    </tr>\n",
       "    <tr>\n",
       "      <th>628628</th>\n",
       "      <td>Elijah Molden</td>\n",
       "      <td>53529.0</td>\n",
       "      <td>TEN</td>\n",
       "      <td>28.000000</td>\n",
       "      <td>177.80</td>\n",
       "      <td>85.50</td>\n",
       "      <td>27.05</td>\n",
       "      <td>NaN</td>\n",
       "      <td>9.55</td>\n",
       "    </tr>\n",
       "    <tr>\n",
       "      <th>202947</th>\n",
       "      <td>Tre'Davious White</td>\n",
       "      <td>44839.0</td>\n",
       "      <td>BUF</td>\n",
       "      <td>28.000000</td>\n",
       "      <td>180.34</td>\n",
       "      <td>86.40</td>\n",
       "      <td>26.57</td>\n",
       "      <td>1995-01-16</td>\n",
       "      <td>9.55</td>\n",
       "    </tr>\n",
       "    <tr>\n",
       "      <th>728378</th>\n",
       "      <td>Troy Hill</td>\n",
       "      <td>42816.0</td>\n",
       "      <td>CLE</td>\n",
       "      <td>31.416667</td>\n",
       "      <td>180.34</td>\n",
       "      <td>82.80</td>\n",
       "      <td>25.46</td>\n",
       "      <td>1991-08-29</td>\n",
       "      <td>9.48</td>\n",
       "    </tr>\n",
       "    <tr>\n",
       "      <th>794677</th>\n",
       "      <td>Jonathan Jones</td>\n",
       "      <td>43700.0</td>\n",
       "      <td>NE</td>\n",
       "      <td>29.333333</td>\n",
       "      <td>177.80</td>\n",
       "      <td>85.50</td>\n",
       "      <td>27.05</td>\n",
       "      <td>1993-09-20</td>\n",
       "      <td>9.37</td>\n",
       "    </tr>\n",
       "    <tr>\n",
       "      <th>796585</th>\n",
       "      <td>J.C. Jackson</td>\n",
       "      <td>46775.0</td>\n",
       "      <td>NE</td>\n",
       "      <td>27.166667</td>\n",
       "      <td>185.42</td>\n",
       "      <td>89.10</td>\n",
       "      <td>25.92</td>\n",
       "      <td>1995-11-17</td>\n",
       "      <td>9.36</td>\n",
       "    </tr>\n",
       "  </tbody>\n",
       "</table>\n",
       "</div>"
      ],
      "text/plain": [
       "              displayName    nflId team        age  height_new  weight_new  \\\n",
       "243068      Donte Jackson  46124.0  CAR  27.166667      177.80       81.00   \n",
       "305789     Chidobe Awuzie  44872.0  CIN  27.666667      182.88       90.90   \n",
       "430762        Jeff Okudah  52411.0  DET  23.916667      185.42       90.00   \n",
       "971266     Jaylon Johnson  52458.0  CHI  23.750000      182.88       87.75   \n",
       "460763     C.J. Henderson  52417.0  JAX  24.333333      185.42       85.95   \n",
       "992087    Marlon Humphrey  44828.0  BAL  26.500000      182.88       88.65   \n",
       "886377    Patrick Surtain  53438.0  DEN  28.000000      187.96       91.35   \n",
       "628628      Elijah Molden  53529.0  TEN  28.000000      177.80       85.50   \n",
       "202947  Tre'Davious White  44839.0  BUF  28.000000      180.34       86.40   \n",
       "728378          Troy Hill  42816.0  CLE  31.416667      180.34       82.80   \n",
       "794677     Jonathan Jones  43700.0   NE  29.333333      177.80       85.50   \n",
       "796585       J.C. Jackson  46775.0   NE  27.166667      185.42       89.10   \n",
       "\n",
       "          BMI   birthDate      s  \n",
       "243068  25.62  1995-11-08  10.39  \n",
       "305789  27.18  1995-05-24   9.81  \n",
       "430762  26.18  1999-02-02   9.81  \n",
       "971266  26.24  1999-04-19   9.73  \n",
       "460763  25.00  1998-09-30   9.72  \n",
       "992087  26.51  1996-07-08   9.70  \n",
       "886377  25.86         NaN   9.61  \n",
       "628628  27.05         NaN   9.55  \n",
       "202947  26.57  1995-01-16   9.55  \n",
       "728378  25.46  1991-08-29   9.48  \n",
       "794677  27.05  1993-09-20   9.37  \n",
       "796585  25.92  1995-11-17   9.36  "
      ]
     },
     "execution_count": 15,
     "metadata": {},
     "output_type": "execute_result"
    }
   ],
   "source": [
    "pd.set_option('display.max_columns', None)\n",
    "pd.set_option('display.max_rows', None)\n",
    "pd.set_option('max_colwidth',100)\n",
    "\n",
    "sortByS = df_week_1_player.sort_values(by=['nflId', 's'], ascending= False).drop_duplicates('nflId')\n",
    "sortByS = sortByS[['displayName', 'nflId', 'team', 'age', 'height_new', 'weight_new', 'BMI', 'birthDate', 's']].sort_values(by=['s'], ascending= False)\n",
    "print(sortByS['s'].describe())\n",
    "sortByS.head(12)"
   ]
  },
  {
   "cell_type": "code",
   "execution_count": 16,
   "id": "a8836b10",
   "metadata": {
    "execution": {
     "iopub.execute_input": "2023-01-09T02:08:23.817951Z",
     "iopub.status.busy": "2023-01-09T02:08:23.817547Z",
     "iopub.status.idle": "2023-01-09T02:08:23.897428Z",
     "shell.execute_reply": "2023-01-09T02:08:23.896378Z"
    },
    "papermill": {
     "duration": 0.09549,
     "end_time": "2023-01-09T02:08:23.900183",
     "exception": false,
     "start_time": "2023-01-09T02:08:23.804693",
     "status": "completed"
    },
    "tags": []
   },
   "outputs": [
    {
     "name": "stdout",
     "output_type": "stream",
     "text": [
      "count    121.000000\n",
      "mean       8.313471\n",
      "std        1.001541\n",
      "min        3.600000\n",
      "25%        7.890000\n",
      "50%        8.410000\n",
      "75%        9.000000\n",
      "max       10.090000\n",
      "Name: s, dtype: float64\n"
     ]
    },
    {
     "data": {
      "text/html": [
       "<div>\n",
       "<style scoped>\n",
       "    .dataframe tbody tr th:only-of-type {\n",
       "        vertical-align: middle;\n",
       "    }\n",
       "\n",
       "    .dataframe tbody tr th {\n",
       "        vertical-align: top;\n",
       "    }\n",
       "\n",
       "    .dataframe thead th {\n",
       "        text-align: right;\n",
       "    }\n",
       "</style>\n",
       "<table border=\"1\" class=\"dataframe\">\n",
       "  <thead>\n",
       "    <tr style=\"text-align: right;\">\n",
       "      <th></th>\n",
       "      <th>displayName</th>\n",
       "      <th>nflId</th>\n",
       "      <th>team</th>\n",
       "      <th>age</th>\n",
       "      <th>height_new</th>\n",
       "      <th>weight_new</th>\n",
       "      <th>BMI</th>\n",
       "      <th>birthDate</th>\n",
       "      <th>s</th>\n",
       "    </tr>\n",
       "  </thead>\n",
       "  <tbody>\n",
       "    <tr>\n",
       "      <th>130059</th>\n",
       "      <td>Desmond Trufant</td>\n",
       "      <td>39968.0</td>\n",
       "      <td>NO</td>\n",
       "      <td>32.333333</td>\n",
       "      <td>182.88</td>\n",
       "      <td>85.50</td>\n",
       "      <td>25.56</td>\n",
       "      <td>1990-09-10</td>\n",
       "      <td>10.09</td>\n",
       "    </tr>\n",
       "    <tr>\n",
       "      <th>224924</th>\n",
       "      <td>Denzel Ward</td>\n",
       "      <td>46073.0</td>\n",
       "      <td>CLE</td>\n",
       "      <td>25.750000</td>\n",
       "      <td>180.34</td>\n",
       "      <td>85.95</td>\n",
       "      <td>26.43</td>\n",
       "      <td>1997-04-28</td>\n",
       "      <td>9.99</td>\n",
       "    </tr>\n",
       "    <tr>\n",
       "      <th>262489</th>\n",
       "      <td>Darious Williams</td>\n",
       "      <td>46456.0</td>\n",
       "      <td>LA</td>\n",
       "      <td>29.833333</td>\n",
       "      <td>175.26</td>\n",
       "      <td>84.15</td>\n",
       "      <td>27.40</td>\n",
       "      <td>1993-03-15</td>\n",
       "      <td>9.75</td>\n",
       "    </tr>\n",
       "    <tr>\n",
       "      <th>410360</th>\n",
       "      <td>Byron Jones</td>\n",
       "      <td>42370.0</td>\n",
       "      <td>MIA</td>\n",
       "      <td>30.333333</td>\n",
       "      <td>182.88</td>\n",
       "      <td>92.25</td>\n",
       "      <td>27.58</td>\n",
       "      <td>1992-09-26</td>\n",
       "      <td>9.74</td>\n",
       "    </tr>\n",
       "    <tr>\n",
       "      <th>791054</th>\n",
       "      <td>Jourdan Lewis</td>\n",
       "      <td>44904.0</td>\n",
       "      <td>DAL</td>\n",
       "      <td>27.416667</td>\n",
       "      <td>177.80</td>\n",
       "      <td>87.75</td>\n",
       "      <td>27.76</td>\n",
       "      <td>1995-08-31</td>\n",
       "      <td>9.69</td>\n",
       "    </tr>\n",
       "    <tr>\n",
       "      <th>278355</th>\n",
       "      <td>T.J. Carrie</td>\n",
       "      <td>41448.0</td>\n",
       "      <td>IND</td>\n",
       "      <td>32.500000</td>\n",
       "      <td>182.88</td>\n",
       "      <td>91.80</td>\n",
       "      <td>27.45</td>\n",
       "      <td>1990-07-28</td>\n",
       "      <td>9.65</td>\n",
       "    </tr>\n",
       "    <tr>\n",
       "      <th>704440</th>\n",
       "      <td>A.J. Terrell</td>\n",
       "      <td>52424.0</td>\n",
       "      <td>ATL</td>\n",
       "      <td>24.333333</td>\n",
       "      <td>187.96</td>\n",
       "      <td>85.50</td>\n",
       "      <td>24.20</td>\n",
       "      <td>1998-09-23</td>\n",
       "      <td>9.62</td>\n",
       "    </tr>\n",
       "    <tr>\n",
       "      <th>417963</th>\n",
       "      <td>Justin Coleman</td>\n",
       "      <td>42827.0</td>\n",
       "      <td>MIA</td>\n",
       "      <td>29.833333</td>\n",
       "      <td>180.34</td>\n",
       "      <td>85.50</td>\n",
       "      <td>26.29</td>\n",
       "      <td>1993-03-27</td>\n",
       "      <td>9.61</td>\n",
       "    </tr>\n",
       "    <tr>\n",
       "      <th>304892</th>\n",
       "      <td>Isaiah Rodgers</td>\n",
       "      <td>52619.0</td>\n",
       "      <td>IND</td>\n",
       "      <td>25.000000</td>\n",
       "      <td>177.80</td>\n",
       "      <td>76.50</td>\n",
       "      <td>24.20</td>\n",
       "      <td>1998-01-07</td>\n",
       "      <td>9.49</td>\n",
       "    </tr>\n",
       "    <tr>\n",
       "      <th>550951</th>\n",
       "      <td>Deommodore Lenoir</td>\n",
       "      <td>53601.0</td>\n",
       "      <td>SF</td>\n",
       "      <td>28.000000</td>\n",
       "      <td>180.34</td>\n",
       "      <td>90.90</td>\n",
       "      <td>27.95</td>\n",
       "      <td>NaN</td>\n",
       "      <td>9.48</td>\n",
       "    </tr>\n",
       "    <tr>\n",
       "      <th>75949</th>\n",
       "      <td>Bradley Roby</td>\n",
       "      <td>41257.0</td>\n",
       "      <td>NO</td>\n",
       "      <td>30.666667</td>\n",
       "      <td>180.34</td>\n",
       "      <td>87.30</td>\n",
       "      <td>26.84</td>\n",
       "      <td>1992-05-01</td>\n",
       "      <td>9.48</td>\n",
       "    </tr>\n",
       "    <tr>\n",
       "      <th>311367</th>\n",
       "      <td>Kyle Fuller</td>\n",
       "      <td>41240.0</td>\n",
       "      <td>DEN</td>\n",
       "      <td>30.916667</td>\n",
       "      <td>180.34</td>\n",
       "      <td>87.30</td>\n",
       "      <td>26.84</td>\n",
       "      <td>1992-02-16</td>\n",
       "      <td>9.44</td>\n",
       "    </tr>\n",
       "  </tbody>\n",
       "</table>\n",
       "</div>"
      ],
      "text/plain": [
       "              displayName    nflId team        age  height_new  weight_new  \\\n",
       "130059    Desmond Trufant  39968.0   NO  32.333333      182.88       85.50   \n",
       "224924        Denzel Ward  46073.0  CLE  25.750000      180.34       85.95   \n",
       "262489   Darious Williams  46456.0   LA  29.833333      175.26       84.15   \n",
       "410360        Byron Jones  42370.0  MIA  30.333333      182.88       92.25   \n",
       "791054      Jourdan Lewis  44904.0  DAL  27.416667      177.80       87.75   \n",
       "278355        T.J. Carrie  41448.0  IND  32.500000      182.88       91.80   \n",
       "704440       A.J. Terrell  52424.0  ATL  24.333333      187.96       85.50   \n",
       "417963     Justin Coleman  42827.0  MIA  29.833333      180.34       85.50   \n",
       "304892     Isaiah Rodgers  52619.0  IND  25.000000      177.80       76.50   \n",
       "550951  Deommodore Lenoir  53601.0   SF  28.000000      180.34       90.90   \n",
       "75949        Bradley Roby  41257.0   NO  30.666667      180.34       87.30   \n",
       "311367        Kyle Fuller  41240.0  DEN  30.916667      180.34       87.30   \n",
       "\n",
       "          BMI   birthDate      s  \n",
       "130059  25.56  1990-09-10  10.09  \n",
       "224924  26.43  1997-04-28   9.99  \n",
       "262489  27.40  1993-03-15   9.75  \n",
       "410360  27.58  1992-09-26   9.74  \n",
       "791054  27.76  1995-08-31   9.69  \n",
       "278355  27.45  1990-07-28   9.65  \n",
       "704440  24.20  1998-09-23   9.62  \n",
       "417963  26.29  1993-03-27   9.61  \n",
       "304892  24.20  1998-01-07   9.49  \n",
       "550951  27.95         NaN   9.48  \n",
       "75949   26.84  1992-05-01   9.48  \n",
       "311367  26.84  1992-02-16   9.44  "
      ]
     },
     "execution_count": 16,
     "metadata": {},
     "output_type": "execute_result"
    }
   ],
   "source": [
    "sortByS_week_2 = df_week_2_player.sort_values(by=['nflId', 's'], ascending= False).drop_duplicates('nflId')\n",
    "sortByS_week_2 = sortByS_week_2[['displayName', 'nflId', 'team', 'age', 'height_new', 'weight_new', 'BMI', 'birthDate', 's']].sort_values(by=['s'], ascending= False)\n",
    "print(sortByS_week_2['s'].describe())\n",
    "sortByS_week_2.head(12)"
   ]
  },
  {
   "cell_type": "markdown",
   "id": "ee253bb2",
   "metadata": {
    "papermill": {
     "duration": 0.011551,
     "end_time": "2023-01-09T02:08:23.923913",
     "exception": false,
     "start_time": "2023-01-09T02:08:23.912362",
     "status": "completed"
    },
    "tags": []
   },
   "source": [
    "# **設定Feature and Target**"
   ]
  },
  {
   "cell_type": "code",
   "execution_count": 17,
   "id": "87c4805c",
   "metadata": {
    "execution": {
     "iopub.execute_input": "2023-01-09T02:08:23.949975Z",
     "iopub.status.busy": "2023-01-09T02:08:23.949611Z",
     "iopub.status.idle": "2023-01-09T02:08:23.966279Z",
     "shell.execute_reply": "2023-01-09T02:08:23.965023Z"
    },
    "papermill": {
     "duration": 0.032369,
     "end_time": "2023-01-09T02:08:23.968577",
     "exception": false,
     "start_time": "2023-01-09T02:08:23.936208",
     "status": "completed"
    },
    "tags": []
   },
   "outputs": [],
   "source": [
    "# Create X and y\n",
    "X, y = df_week_1_player[['age', 'x', 'y', 'dis', 'o', 'dir']], df_week_1_player[['s']]\n",
    "\n",
    "X_test, y_test = df_week_2_player[['age', 'x', 'y', 'dis', 'o', 'dir']], df_week_2_player[['s']]"
   ]
  },
  {
   "cell_type": "markdown",
   "id": "3687d45c",
   "metadata": {
    "papermill": {
     "duration": 0.011131,
     "end_time": "2023-01-09T02:08:23.991400",
     "exception": false,
     "start_time": "2023-01-09T02:08:23.980269",
     "status": "completed"
    },
    "tags": []
   },
   "source": [
    "# **資料分割成 X_train, X_val, y_train, y_val**"
   ]
  },
  {
   "cell_type": "code",
   "execution_count": 18,
   "id": "cf5420c0",
   "metadata": {
    "execution": {
     "iopub.execute_input": "2023-01-09T02:08:24.016288Z",
     "iopub.status.busy": "2023-01-09T02:08:24.015907Z",
     "iopub.status.idle": "2023-01-09T02:08:24.037277Z",
     "shell.execute_reply": "2023-01-09T02:08:24.036050Z"
    },
    "papermill": {
     "duration": 0.036866,
     "end_time": "2023-01-09T02:08:24.039740",
     "exception": false,
     "start_time": "2023-01-09T02:08:24.002874",
     "status": "completed"
    },
    "tags": []
   },
   "outputs": [],
   "source": [
    "# Split the data into data of training and data test\n",
    "X_train, X_val, y_train, y_val = train_test_split(X, y, test_size=0.2)"
   ]
  },
  {
   "cell_type": "markdown",
   "id": "d83fae25",
   "metadata": {
    "papermill": {
     "duration": 0.011758,
     "end_time": "2023-01-09T02:08:24.063649",
     "exception": false,
     "start_time": "2023-01-09T02:08:24.051891",
     "status": "completed"
    },
    "tags": []
   },
   "source": [
    "# **模型訓練**"
   ]
  },
  {
   "cell_type": "code",
   "execution_count": 19,
   "id": "131dbde1",
   "metadata": {
    "execution": {
     "iopub.execute_input": "2023-01-09T02:08:24.089777Z",
     "iopub.status.busy": "2023-01-09T02:08:24.089379Z",
     "iopub.status.idle": "2023-01-09T02:11:58.249797Z",
     "shell.execute_reply": "2023-01-09T02:11:58.248718Z"
    },
    "papermill": {
     "duration": 214.176432,
     "end_time": "2023-01-09T02:11:58.252187",
     "exception": false,
     "start_time": "2023-01-09T02:08:24.075755",
     "status": "completed"
    },
    "tags": []
   },
   "outputs": [
    {
     "name": "stderr",
     "output_type": "stream",
     "text": [
      "2023-01-09 02:08:30.402875: I tensorflow/core/common_runtime/process_util.cc:146] Creating new thread pool with default inter op setting: 2. Tune using inter_op_parallelism_threads for best performance.\n",
      "2023-01-09 02:08:46.124715: I tensorflow/compiler/mlir/mlir_graph_optimization_pass.cc:185] None of the MLIR Optimization Passes are enabled (registered 2)\n"
     ]
    },
    {
     "name": "stdout",
     "output_type": "stream",
     "text": [
      "Epoch 1/25\n",
      "3322/3322 [==============================] - 14s 4ms/step - loss: 2.7787 - mae: 1.2582 - val_loss: 0.1077 - val_mae: 0.2481\n",
      "Epoch 2/25\n",
      "3322/3322 [==============================] - 8s 2ms/step - loss: 0.1110 - mae: 0.2532 - val_loss: 0.1728 - val_mae: 0.3592\n",
      "Epoch 3/25\n",
      "3322/3322 [==============================] - 8s 3ms/step - loss: 0.0721 - mae: 0.2052 - val_loss: 0.0321 - val_mae: 0.1345\n",
      "Epoch 4/25\n",
      "3322/3322 [==============================] - 8s 2ms/step - loss: 0.0584 - mae: 0.1835 - val_loss: 0.0429 - val_mae: 0.1579\n",
      "Epoch 5/25\n",
      "3322/3322 [==============================] - 7s 2ms/step - loss: 0.0471 - mae: 0.1633 - val_loss: 0.0190 - val_mae: 0.1009\n",
      "Epoch 6/25\n",
      "3322/3322 [==============================] - 7s 2ms/step - loss: 0.0415 - mae: 0.1534 - val_loss: 0.0233 - val_mae: 0.1141\n",
      "Epoch 7/25\n",
      "3322/3322 [==============================] - 7s 2ms/step - loss: 0.0385 - mae: 0.1478 - val_loss: 0.0454 - val_mae: 0.1707\n",
      "Epoch 8/25\n",
      "3322/3322 [==============================] - 7s 2ms/step - loss: 0.0333 - mae: 0.1389 - val_loss: 0.0409 - val_mae: 0.1712\n",
      "Epoch 9/25\n",
      "3322/3322 [==============================] - 8s 2ms/step - loss: 0.0324 - mae: 0.1356 - val_loss: 0.0379 - val_mae: 0.1527\n",
      "Epoch 10/25\n",
      "3322/3322 [==============================] - 7s 2ms/step - loss: 0.0295 - mae: 0.1300 - val_loss: 0.0501 - val_mae: 0.1900\n",
      "Epoch 11/25\n",
      "3322/3322 [==============================] - 7s 2ms/step - loss: 0.0289 - mae: 0.1271 - val_loss: 0.0607 - val_mae: 0.2150\n",
      "Epoch 12/25\n",
      "3322/3322 [==============================] - 7s 2ms/step - loss: 0.0269 - mae: 0.1227 - val_loss: 0.0167 - val_mae: 0.0955\n",
      "Epoch 13/25\n",
      "3322/3322 [==============================] - 7s 2ms/step - loss: 0.0256 - mae: 0.1200 - val_loss: 0.0150 - val_mae: 0.0869\n",
      "Epoch 14/25\n",
      "3322/3322 [==============================] - 7s 2ms/step - loss: 0.0258 - mae: 0.1194 - val_loss: 0.0314 - val_mae: 0.1433\n",
      "Epoch 15/25\n",
      "3322/3322 [==============================] - 7s 2ms/step - loss: 0.0253 - mae: 0.1183 - val_loss: 0.0234 - val_mae: 0.1136\n",
      "Epoch 16/25\n",
      "3322/3322 [==============================] - 7s 2ms/step - loss: 0.0241 - mae: 0.1158 - val_loss: 0.0164 - val_mae: 0.0900\n",
      "Epoch 17/25\n",
      "3322/3322 [==============================] - 8s 2ms/step - loss: 0.0240 - mae: 0.1150 - val_loss: 0.0142 - val_mae: 0.0825\n",
      "Epoch 18/25\n",
      "3322/3322 [==============================] - 7s 2ms/step - loss: 0.0225 - mae: 0.1114 - val_loss: 0.0206 - val_mae: 0.1088\n",
      "Epoch 19/25\n",
      "3322/3322 [==============================] - 7s 2ms/step - loss: 0.0226 - mae: 0.1117 - val_loss: 0.0199 - val_mae: 0.1020\n",
      "Epoch 20/25\n",
      "3322/3322 [==============================] - 7s 2ms/step - loss: 0.0215 - mae: 0.1086 - val_loss: 0.0186 - val_mae: 0.0982\n",
      "Epoch 21/25\n",
      "3322/3322 [==============================] - 7s 2ms/step - loss: 0.0214 - mae: 0.1081 - val_loss: 0.0141 - val_mae: 0.0836\n",
      "Epoch 22/25\n",
      "3322/3322 [==============================] - 7s 2ms/step - loss: 0.0213 - mae: 0.1079 - val_loss: 0.0221 - val_mae: 0.1177\n",
      "Epoch 23/25\n",
      "3322/3322 [==============================] - 7s 2ms/step - loss: 0.0206 - mae: 0.1060 - val_loss: 0.0161 - val_mae: 0.0929\n",
      "Epoch 24/25\n",
      "3322/3322 [==============================] - 8s 2ms/step - loss: 0.0212 - mae: 0.1073 - val_loss: 0.0243 - val_mae: 0.1178\n",
      "Epoch 25/25\n",
      "3322/3322 [==============================] - 8s 2ms/step - loss: 0.0200 - mae: 0.1043 - val_loss: 0.0186 - val_mae: 0.1053\n"
     ]
    }
   ],
   "source": [
    "# Create model and model training\n",
    "from keras.layers import Input, Dense\n",
    "from keras.models import Model\n",
    "from tensorflow.keras.optimizers import Adam\n",
    "\n",
    "def build_network(input_features=None):\n",
    "    inputs = Input(shape=(input_features,), name=\"input\")\n",
    "    x = Dense(32, activation='relu', name=\"hidden1\")(inputs)\n",
    "    x = Dense(32, activation='relu', name=\"hidden2\")(x)\n",
    "    x = Dense(32, activation='relu', name=\"hidden3\")(x)\n",
    "    x = Dense(32, activation='relu', name=\"hidden4\")(x)\n",
    "    x = Dense(16, activation='relu', name=\"hidden5\")(x)\n",
    "    prediction = Dense(1, activation='linear', name=\"final\")(x)\n",
    "    model = Model(inputs=inputs, outputs=prediction)\n",
    "    model.compile(optimizer=Adam(learning_rate=0.001), loss = 'mse', metrics = ['mae'])\n",
    "    return model\n",
    "\n",
    "model = build_network(input_features=6)\n",
    "train_history = model.fit(X_train, y_train, batch_size=32, epochs=25, verbose=1, validation_data=(X_val, y_val))"
   ]
  },
  {
   "cell_type": "markdown",
   "id": "da86a2cf",
   "metadata": {
    "papermill": {
     "duration": 0.246913,
     "end_time": "2023-01-09T02:11:58.686674",
     "exception": false,
     "start_time": "2023-01-09T02:11:58.439761",
     "status": "completed"
    },
    "tags": []
   },
   "source": [
    "# **Training Curve and MAE**"
   ]
  },
  {
   "cell_type": "code",
   "execution_count": 20,
   "id": "7b7a7cff",
   "metadata": {
    "execution": {
     "iopub.execute_input": "2023-01-09T02:11:59.054626Z",
     "iopub.status.busy": "2023-01-09T02:11:59.054246Z",
     "iopub.status.idle": "2023-01-09T02:11:59.386102Z",
     "shell.execute_reply": "2023-01-09T02:11:59.385145Z"
    },
    "papermill": {
     "duration": 0.519204,
     "end_time": "2023-01-09T02:11:59.388482",
     "exception": false,
     "start_time": "2023-01-09T02:11:58.869278",
     "status": "completed"
    },
    "tags": []
   },
   "outputs": [
    {
     "data": {
      "text/plain": [
       "<matplotlib.legend.Legend at 0x7f8823fbaf10>"
      ]
     },
     "execution_count": 20,
     "metadata": {},
     "output_type": "execute_result"
    },
    {
     "data": {
      "image/png": "[encoded data removed]",
      "text/plain": [
       "<Figure size 864x288 with 2 Axes>"
      ]
     },
     "metadata": {
      "needs_background": "light"
     },
     "output_type": "display_data"
    }
   ],
   "source": [
    "fig = plt.figure(figsize=(12, 4))\n",
    "\n",
    "loss_plot = fig.add_subplot(121)\n",
    "loss_plot.plot(train_history.history['loss'], color='blue', label='Train')\n",
    "loss_plot.plot(train_history.history['val_loss'], color='darkorange', linestyle='dashed', label='Val')\n",
    "loss_plot.title.set_text('Loss')\n",
    "loss_plot.legend()\n",
    "\n",
    "mae_plot = fig.add_subplot(122)\n",
    "mae_plot.plot(train_history.history['mae'], color='blue', label='Train')\n",
    "mae_plot.plot(train_history.history['val_mae'], color='darkorange', linestyle='dashed', label='Val')\n",
    "mae_plot.title.set_text('MAE')\n",
    "mae_plot.legend()"
   ]
  },
  {
   "cell_type": "code",
   "execution_count": 21,
   "id": "36e37f8e",
   "metadata": {
    "execution": {
     "iopub.execute_input": "2023-01-09T02:11:59.763351Z",
     "iopub.status.busy": "2023-01-09T02:11:59.762083Z",
     "iopub.status.idle": "2023-01-09T02:12:21.905569Z",
     "shell.execute_reply": "2023-01-09T02:12:21.904027Z"
    },
    "papermill": {
     "duration": 22.334343,
     "end_time": "2023-01-09T02:12:21.908633",
     "exception": false,
     "start_time": "2023-01-09T02:11:59.574290",
     "status": "completed"
    },
    "tags": []
   },
   "outputs": [
    {
     "name": "stdout",
     "output_type": "stream",
     "text": [
      "Model Train MAE: 0.10450098474515762\n",
      "Model Val MAE: 0.10528100411782358\n"
     ]
    }
   ],
   "source": [
    "# Predict\n",
    "print(\"Model Train MAE: \" + str(mean_absolute_error(y_train, model.predict(X_train))))\n",
    "print(\"Model Val MAE: \" + str(mean_absolute_error(y_val, model.predict(X_val))))"
   ]
  },
  {
   "cell_type": "markdown",
   "id": "dbe6745e",
   "metadata": {
    "papermill": {
     "duration": 0.188107,
     "end_time": "2023-01-09T02:12:22.283487",
     "exception": false,
     "start_time": "2023-01-09T02:12:22.095380",
     "status": "completed"
    },
    "tags": []
   },
   "source": [
    "# **預測**"
   ]
  },
  {
   "cell_type": "code",
   "execution_count": 22,
   "id": "333a2b65",
   "metadata": {
    "execution": {
     "iopub.execute_input": "2023-01-09T02:12:22.657415Z",
     "iopub.status.busy": "2023-01-09T02:12:22.657034Z",
     "iopub.status.idle": "2023-01-09T02:12:44.802556Z",
     "shell.execute_reply": "2023-01-09T02:12:44.801432Z"
    },
    "papermill": {
     "duration": 22.334812,
     "end_time": "2023-01-09T02:12:44.804799",
     "exception": false,
     "start_time": "2023-01-09T02:12:22.469987",
     "status": "completed"
    },
    "tags": []
   },
   "outputs": [
    {
     "name": "stdout",
     "output_type": "stream",
     "text": [
      "Prediction MAE: 0.10514600854575021\n"
     ]
    }
   ],
   "source": [
    "# Predict\n",
    "pred_model = model.predict(X_test)\n",
    "print(\"Prediction MAE: \" + str(mean_absolute_error(y_test, pred_model)))"
   ]
  },
  {
   "cell_type": "markdown",
   "id": "8514d72c",
   "metadata": {
    "papermill": {
     "duration": 0.186893,
     "end_time": "2023-01-09T02:12:45.178575",
     "exception": false,
     "start_time": "2023-01-09T02:12:44.991682",
     "status": "completed"
    },
    "tags": []
   },
   "source": [
    "# **前15筆預測值和實際值比較**"
   ]
  },
  {
   "cell_type": "code",
   "execution_count": 23,
   "id": "a9afc8b8",
   "metadata": {
    "execution": {
     "iopub.execute_input": "2023-01-09T02:12:45.612374Z",
     "iopub.status.busy": "2023-01-09T02:12:45.612007Z",
     "iopub.status.idle": "2023-01-09T02:12:45.772119Z",
     "shell.execute_reply": "2023-01-09T02:12:45.771105Z"
    },
    "papermill": {
     "duration": 0.350975,
     "end_time": "2023-01-09T02:12:45.774042",
     "exception": false,
     "start_time": "2023-01-09T02:12:45.423067",
     "status": "completed"
    },
    "tags": []
   },
   "outputs": [
    {
     "data": {
      "image/png": "[encoded data removed]",
      "text/plain": [
       "<Figure size 432x288 with 1 Axes>"
      ]
     },
     "metadata": {
      "needs_background": "light"
     },
     "output_type": "display_data"
    }
   ],
   "source": [
    "# compare expected and predicted values\n",
    "plt.plot(y_test.head(15).values, color=\"blue\", label='expected')\n",
    "plt.plot(pred_model[0:15], color='darkorange', linestyle='dashed', label='predicted')\n",
    "plt.title(\"compare expected and predicted values\")\n",
    "plt.legend()\n",
    "plt.show()"
   ]
  },
  {
   "cell_type": "markdown",
   "id": "902a5a1b",
   "metadata": {
    "papermill": {
     "duration": 0.188066,
     "end_time": "2023-01-09T02:12:46.149883",
     "exception": false,
     "start_time": "2023-01-09T02:12:45.961817",
     "status": "completed"
    },
    "tags": []
   },
   "source": [
    "# **======加入Metric======**"
   ]
  },
  {
   "cell_type": "markdown",
   "id": "4244cebd",
   "metadata": {
    "papermill": {
     "duration": 0.189541,
     "end_time": "2023-01-09T02:12:46.526061",
     "exception": false,
     "start_time": "2023-01-09T02:12:46.336520",
     "status": "completed"
    },
    "tags": []
   },
   "source": [
    "# **設定Feature and Target**"
   ]
  },
  {
   "cell_type": "code",
   "execution_count": 24,
   "id": "017b4ba7",
   "metadata": {
    "execution": {
     "iopub.execute_input": "2023-01-09T02:12:46.909164Z",
     "iopub.status.busy": "2023-01-09T02:12:46.908743Z",
     "iopub.status.idle": "2023-01-09T02:12:46.919731Z",
     "shell.execute_reply": "2023-01-09T02:12:46.918284Z"
    },
    "papermill": {
     "duration": 0.203032,
     "end_time": "2023-01-09T02:12:46.922119",
     "exception": false,
     "start_time": "2023-01-09T02:12:46.719087",
     "status": "completed"
    },
    "tags": []
   },
   "outputs": [],
   "source": [
    "# Create X and y\n",
    "X_metric, y_metric = df_week_1_player[['age', 'x', 'y', 'dis', 'o', 'dir', 'BMI']], df_week_1_player[['s']]\n",
    "\n",
    "X_test_metric, y_test_metric = df_week_2_player[['age', 'x', 'y', 'dis', 'o', 'dir', 'BMI']], df_week_2_player[['s']]"
   ]
  },
  {
   "cell_type": "markdown",
   "id": "674979f2",
   "metadata": {
    "papermill": {
     "duration": 0.189961,
     "end_time": "2023-01-09T02:12:47.302189",
     "exception": false,
     "start_time": "2023-01-09T02:12:47.112228",
     "status": "completed"
    },
    "tags": []
   },
   "source": [
    "# **資料分割成 X_train_metric, X_val_metric, y_train_metric, y_val_metric**"
   ]
  },
  {
   "cell_type": "code",
   "execution_count": 25,
   "id": "b8d32950",
   "metadata": {
    "execution": {
     "iopub.execute_input": "2023-01-09T02:12:47.754064Z",
     "iopub.status.busy": "2023-01-09T02:12:47.753648Z",
     "iopub.status.idle": "2023-01-09T02:12:47.773020Z",
     "shell.execute_reply": "2023-01-09T02:12:47.772022Z"
    },
    "papermill": {
     "duration": 0.230166,
     "end_time": "2023-01-09T02:12:47.775568",
     "exception": false,
     "start_time": "2023-01-09T02:12:47.545402",
     "status": "completed"
    },
    "tags": []
   },
   "outputs": [],
   "source": [
    "# Split the data into data of training and data test\n",
    "X_train_metric, X_val_metric, y_train_metric, y_val_metric = train_test_split(X_metric, y_metric, test_size=0.2)"
   ]
  },
  {
   "cell_type": "markdown",
   "id": "0c0c87b0",
   "metadata": {
    "papermill": {
     "duration": 0.193682,
     "end_time": "2023-01-09T02:12:48.159885",
     "exception": false,
     "start_time": "2023-01-09T02:12:47.966203",
     "status": "completed"
    },
    "tags": []
   },
   "source": [
    "# **模型訓練**"
   ]
  },
  {
   "cell_type": "code",
   "execution_count": 26,
   "id": "e0d6e6f5",
   "metadata": {
    "execution": {
     "iopub.execute_input": "2023-01-09T02:12:48.540150Z",
     "iopub.status.busy": "2023-01-09T02:12:48.539722Z",
     "iopub.status.idle": "2023-01-09T02:17:24.709300Z",
     "shell.execute_reply": "2023-01-09T02:17:24.707508Z"
    },
    "papermill": {
     "duration": 276.3635,
     "end_time": "2023-01-09T02:17:24.712312",
     "exception": false,
     "start_time": "2023-01-09T02:12:48.348812",
     "status": "completed"
    },
    "tags": []
   },
   "outputs": [
    {
     "name": "stdout",
     "output_type": "stream",
     "text": [
      "Epoch 1/25\n",
      "3322/3322 [==============================] - 15s 4ms/step - loss: 4.4884 - mae: 1.6152 - val_loss: 2.2889 - val_mae: 1.2232\n",
      "Epoch 2/25\n",
      "3322/3322 [==============================] - 10s 3ms/step - loss: 0.4370 - mae: 0.4643 - val_loss: 0.0701 - val_mae: 0.2021\n",
      "Epoch 3/25\n",
      "3322/3322 [==============================] - 9s 3ms/step - loss: 0.0933 - mae: 0.2330 - val_loss: 0.3683 - val_mae: 0.5767\n",
      "Epoch 4/25\n",
      "3322/3322 [==============================] - 10s 3ms/step - loss: 0.0682 - mae: 0.1995 - val_loss: 0.2914 - val_mae: 0.4568\n",
      "Epoch 5/25\n",
      "3322/3322 [==============================] - 11s 3ms/step - loss: 0.0593 - mae: 0.1841 - val_loss: 0.0285 - val_mae: 0.1240\n",
      "Epoch 6/25\n",
      "3322/3322 [==============================] - 10s 3ms/step - loss: 0.0493 - mae: 0.1692 - val_loss: 0.0621 - val_mae: 0.1910\n",
      "Epoch 7/25\n",
      "3322/3322 [==============================] - 10s 3ms/step - loss: 0.0413 - mae: 0.1546 - val_loss: 0.0265 - val_mae: 0.1214\n",
      "Epoch 8/25\n",
      "3322/3322 [==============================] - 10s 3ms/step - loss: 0.0414 - mae: 0.1541 - val_loss: 0.0486 - val_mae: 0.1780\n",
      "Epoch 9/25\n",
      "3322/3322 [==============================] - 11s 3ms/step - loss: 0.0370 - mae: 0.1453 - val_loss: 0.0615 - val_mae: 0.2058\n",
      "Epoch 10/25\n",
      "3322/3322 [==============================] - 10s 3ms/step - loss: 0.0355 - mae: 0.1422 - val_loss: 0.0240 - val_mae: 0.1130\n",
      "Epoch 11/25\n",
      "3322/3322 [==============================] - 10s 3ms/step - loss: 0.0331 - mae: 0.1361 - val_loss: 0.0181 - val_mae: 0.0954\n",
      "Epoch 12/25\n",
      "3322/3322 [==============================] - 10s 3ms/step - loss: 0.0338 - mae: 0.1376 - val_loss: 0.0247 - val_mae: 0.1168\n",
      "Epoch 13/25\n",
      "3322/3322 [==============================] - 10s 3ms/step - loss: 0.0318 - mae: 0.1339 - val_loss: 0.0788 - val_mae: 0.2371\n",
      "Epoch 14/25\n",
      "3322/3322 [==============================] - 10s 3ms/step - loss: 0.0287 - mae: 0.1271 - val_loss: 0.0179 - val_mae: 0.0978\n",
      "Epoch 15/25\n",
      "3322/3322 [==============================] - 10s 3ms/step - loss: 0.0271 - mae: 0.1239 - val_loss: 0.0231 - val_mae: 0.1131\n",
      "Epoch 16/25\n",
      "3322/3322 [==============================] - 10s 3ms/step - loss: 0.0273 - mae: 0.1251 - val_loss: 0.0235 - val_mae: 0.1189\n",
      "Epoch 17/25\n",
      "3322/3322 [==============================] - 10s 3ms/step - loss: 0.0267 - mae: 0.1228 - val_loss: 0.0357 - val_mae: 0.1541\n",
      "Epoch 18/25\n",
      "3322/3322 [==============================] - 10s 3ms/step - loss: 0.0263 - mae: 0.1217 - val_loss: 0.0175 - val_mae: 0.0982\n",
      "Epoch 19/25\n",
      "3322/3322 [==============================] - 10s 3ms/step - loss: 0.0243 - mae: 0.1174 - val_loss: 0.0188 - val_mae: 0.0966\n",
      "Epoch 20/25\n",
      "3322/3322 [==============================] - 10s 3ms/step - loss: 0.0247 - mae: 0.1178 - val_loss: 0.0505 - val_mae: 0.1866\n",
      "Epoch 21/25\n",
      "3322/3322 [==============================] - 10s 3ms/step - loss: 0.0241 - mae: 0.1157 - val_loss: 0.0204 - val_mae: 0.1073\n",
      "Epoch 22/25\n",
      "3322/3322 [==============================] - 10s 3ms/step - loss: 0.0239 - mae: 0.1155 - val_loss: 0.0178 - val_mae: 0.0978\n",
      "Epoch 23/25\n",
      "3322/3322 [==============================] - 10s 3ms/step - loss: 0.0239 - mae: 0.1150 - val_loss: 0.0166 - val_mae: 0.0920\n",
      "Epoch 24/25\n",
      "3322/3322 [==============================] - 10s 3ms/step - loss: 0.0231 - mae: 0.1135 - val_loss: 0.0244 - val_mae: 0.1236\n",
      "Epoch 25/25\n",
      "3322/3322 [==============================] - 10s 3ms/step - loss: 0.0235 - mae: 0.1146 - val_loss: 0.0294 - val_mae: 0.1315\n"
     ]
    }
   ],
   "source": [
    "model_metric = build_network(input_features=7)\n",
    "train_history_metric = model_metric.fit(X_train_metric, y_train_metric, batch_size=32, epochs=25, verbose=1, validation_data=(X_val_metric, y_val_metric))"
   ]
  },
  {
   "cell_type": "markdown",
   "id": "15add385",
   "metadata": {
    "papermill": {
     "duration": 0.495812,
     "end_time": "2023-01-09T02:17:25.638390",
     "exception": false,
     "start_time": "2023-01-09T02:17:25.142578",
     "status": "completed"
    },
    "tags": []
   },
   "source": [
    "# **Training Curve and MAE**"
   ]
  },
  {
   "cell_type": "code",
   "execution_count": 27,
   "id": "eb090fd0",
   "metadata": {
    "execution": {
     "iopub.execute_input": "2023-01-09T02:17:26.483587Z",
     "iopub.status.busy": "2023-01-09T02:17:26.483020Z",
     "iopub.status.idle": "2023-01-09T02:17:26.790875Z",
     "shell.execute_reply": "2023-01-09T02:17:26.789139Z"
    },
    "papermill": {
     "duration": 0.737387,
     "end_time": "2023-01-09T02:17:26.793825",
     "exception": false,
     "start_time": "2023-01-09T02:17:26.056438",
     "status": "completed"
    },
    "tags": []
   },
   "outputs": [
    {
     "data": {
      "text/plain": [
       "<matplotlib.legend.Legend at 0x7f882355f650>"
      ]
     },
     "execution_count": 27,
     "metadata": {},
     "output_type": "execute_result"
    },
    {
     "data": {
      "image/png": "[encoded data removed]",
      "text/plain": [
       "<Figure size 864x288 with 2 Axes>"
      ]
     },
     "metadata": {
      "needs_background": "light"
     },
     "output_type": "display_data"
    }
   ],
   "source": [
    "fig = plt.figure(figsize=(12, 4))\n",
    "\n",
    "loss_plot = fig.add_subplot(121)\n",
    "loss_plot.plot(train_history_metric.history['loss'], color='blue', label='Train')\n",
    "loss_plot.plot(train_history_metric.history['val_loss'], color='darkorange', linestyle='dashed', label='Val')\n",
    "loss_plot.title.set_text('Loss')\n",
    "loss_plot.legend()\n",
    "\n",
    "mae_plot = fig.add_subplot(122)\n",
    "mae_plot.plot(train_history_metric.history['mae'], color='blue', label='Train')\n",
    "mae_plot.plot(train_history_metric.history['val_mae'], color='darkorange', linestyle='dashed', label='Val')\n",
    "mae_plot.title.set_text('MAE')\n",
    "mae_plot.legend()"
   ]
  },
  {
   "cell_type": "markdown",
   "id": "b7f49633",
   "metadata": {
    "papermill": {
     "duration": 0.488902,
     "end_time": "2023-01-09T02:17:27.709163",
     "exception": false,
     "start_time": "2023-01-09T02:17:27.220261",
     "status": "completed"
    },
    "tags": []
   },
   "source": [
    "# **預測**"
   ]
  },
  {
   "cell_type": "code",
   "execution_count": 28,
   "id": "ab36ddc4",
   "metadata": {
    "execution": {
     "iopub.execute_input": "2023-01-09T02:17:28.563342Z",
     "iopub.status.busy": "2023-01-09T02:17:28.562298Z",
     "iopub.status.idle": "2023-01-09T02:17:52.103026Z",
     "shell.execute_reply": "2023-01-09T02:17:52.101663Z"
    },
    "papermill": {
     "duration": 23.970707,
     "end_time": "2023-01-09T02:17:52.105309",
     "exception": false,
     "start_time": "2023-01-09T02:17:28.134602",
     "status": "completed"
    },
    "tags": []
   },
   "outputs": [
    {
     "name": "stdout",
     "output_type": "stream",
     "text": [
      "Prediction MAE: 0.13375713366261163\n"
     ]
    }
   ],
   "source": [
    "# Predict\n",
    "pred_model_metric = model_metric.predict(X_test_metric)\n",
    "print(\"Prediction MAE: \" + str(mean_absolute_error(y_test_metric, pred_model_metric)))"
   ]
  },
  {
   "cell_type": "markdown",
   "id": "fe706105",
   "metadata": {
    "papermill": {
     "duration": 0.428121,
     "end_time": "2023-01-09T02:17:53.032481",
     "exception": false,
     "start_time": "2023-01-09T02:17:52.604360",
     "status": "completed"
    },
    "tags": []
   },
   "source": [
    "# **前15筆預測值和實際值比較**"
   ]
  },
  {
   "cell_type": "code",
   "execution_count": 29,
   "id": "e576840b",
   "metadata": {
    "execution": {
     "iopub.execute_input": "2023-01-09T02:17:53.968864Z",
     "iopub.status.busy": "2023-01-09T02:17:53.968470Z",
     "iopub.status.idle": "2023-01-09T02:17:54.135022Z",
     "shell.execute_reply": "2023-01-09T02:17:54.133843Z"
    },
    "papermill": {
     "duration": 0.662966,
     "end_time": "2023-01-09T02:17:54.137179",
     "exception": false,
     "start_time": "2023-01-09T02:17:53.474213",
     "status": "completed"
    },
    "tags": []
   },
   "outputs": [
    {
     "data": {
      "image/png": "[encoded data removed]",
      "text/plain": [
       "<Figure size 432x288 with 1 Axes>"
      ]
     },
     "metadata": {
      "needs_background": "light"
     },
     "output_type": "display_data"
    }
   ],
   "source": [
    "# compare expected and predicted values\n",
    "plt.plot(y_test_metric.head(15).values, color=\"blue\", label='expected')\n",
    "plt.plot(pred_model_metric[0:15], color='darkorange', linestyle='dashed', label='predicted')\n",
    "plt.title(\"compare expected and predicted values\")\n",
    "plt.legend()\n",
    "plt.show()"
   ]
  }
 ],
 "metadata": {
  "kernelspec": {
   "display_name": "Python 3",
   "language": "python",
   "name": "python3"
  },
  "language_info": {
   "codemirror_mode": {
    "name": "ipython",
    "version": 3
   },
   "file_extension": ".py",
   "mimetype": "text/x-python",
   "name": "python",
   "nbconvert_exporter": "python",
   "pygments_lexer": "ipython3",
   "version": "3.7.12"
  },
  "papermill": {
   "default_parameters": {},
   "duration": 597.520368,
   "end_time": "2023-01-09T02:17:58.165036",
   "environment_variables": {},
   "exception": null,
   "input_path": "__notebook__.ipynb",
   "output_path": "__notebook__.ipynb",
   "parameters": {},
   "start_time": "2023-01-09T02:08:00.644668",
   "version": "2.3.4"
  }
 },
 "nbformat": 4,
 "nbformat_minor": 5
}
